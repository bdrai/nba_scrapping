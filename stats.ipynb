{
 "cells": [
  {
   "cell_type": "code",
   "execution_count": 1,
   "id": "362943cc",
   "metadata": {
    "ExecuteTime": {
     "end_time": "2022-11-07T07:10:46.208007Z",
     "start_time": "2022-11-07T07:10:46.107022Z"
    }
   },
   "outputs": [],
   "source": [
    "import requests\n",
    "from bs4 import BeautifulSoup\n",
    "\n",
    "from game import Game\n",
    "\n",
    "URL = \"https://www.espn.com/nba/boxscore/_/gameId/401474858\""
   ]
  },
  {
   "cell_type": "code",
   "execution_count": 2,
   "id": "2e63f215",
   "metadata": {
    "ExecuteTime": {
     "end_time": "2022-11-07T07:10:47.519076Z",
     "start_time": "2022-11-07T07:10:46.440629Z"
    }
   },
   "outputs": [],
   "source": [
    "page = requests.get(URL)\n",
    "soup = BeautifulSoup(page.content, \"html.parser\")\n",
    "page_html = soup.find(id=\"espnfitt\").find(id=\"DataWrapper\")\\\n",
    "    .find(id=\"fitt-analytics\").find(\"div\", class_=\"StickyContainer\")\n",
    "teams_tab = page_html.find_all(\"div\", class_=\"Boxscore flex flex-column\")"
   ]
  },
  {
   "cell_type": "code",
   "execution_count": 13,
   "id": "9dbf14f5",
   "metadata": {
    "ExecuteTime": {
     "end_time": "2022-11-07T07:44:53.913066Z",
     "start_time": "2022-11-07T07:44:53.882048Z"
    }
   },
   "outputs": [
    {
     "name": "stdout",
     "output_type": "stream",
     "text": [
      "Indiana Pacers\n",
      "22\n",
      "<tr class=\"Table__TR Table__TR--sm Table__even\" data-idx=\"0\"><td class=\"Table__customHeader Table__TD\"><div class=\"Table__customHeader\">starters</div></td></tr>\n",
      "<tr class=\"Table__TR Table__TR--sm Table__even\" data-idx=\"0\"><td class=\"Table__customHeader Table__TD\"><div class=\"Table__customHeader\">MIN</div></td><td class=\"Table__customHeader Table__TD\"><div class=\"Table__customHeader\">FG</div></td><td class=\"Table__customHeader Table__TD\"><div class=\"Table__customHeader\">3PT</div></td><td class=\"Table__customHeader Table__TD\"><div class=\"Table__customHeader\">FT</div></td><td class=\"Table__customHeader Table__TD\"><div class=\"Table__customHeader\">OREB</div></td><td class=\"Table__customHeader Table__TD\"><div class=\"Table__customHeader\">DREB</div></td><td class=\"Table__customHeader Table__TD\"><div class=\"Table__customHeader\">REB</div></td><td class=\"Table__customHeader Table__TD\"><div class=\"Table__customHeader\">AST</div></td><td class=\"Table__customHeader Table__TD\"><div class=\"Table__customHeader\">STL</div></td><td class=\"Table__customHeader Table__TD\"><div class=\"Table__customHeader\">BLK</div></td><td class=\"Table__customHeader Table__TD\"><div class=\"Table__customHeader\">TO</div></td><td class=\"Table__customHeader Table__TD\"><div class=\"Table__customHeader\">PF</div></td><td class=\"Table__customHeader Table__TD\"><div class=\"Table__customHeader\">+/-</div></td><td class=\"Table__customHeader Table__TD\"><div class=\"Table__customHeader\">PTS</div></td></tr>\n",
      "\n",
      "\n",
      "<tr class=\"Table__TR Table__TR--sm Table__even\" data-idx=\"1\"><td class=\"Table__TD\"><div class=\"flex\"><a class=\"AnchorLink truncate db external Boxscore__AthleteName\" data-player-uid=\"s:40~l:46~a:4397189\" href=\"https://www.espn.com/nba/player/_/id/4397189/jalen-smith\" tabindex=\"0\">J. Smith</a><span class=\"playerPosition pl2\"> <!-- -->PF</span></div></td></tr>\n",
      "<tr class=\"Table__TR Table__TR--sm Table__even\" data-idx=\"1\"><td class=\"Table__TD Table__TD\">22</td><td class=\"Table__TD Table__TD\">4-11</td><td class=\"Table__TD Table__TD\">0-2</td><td class=\"Table__TD Table__TD\">1-1</td><td class=\"Table__TD Table__TD\">1</td><td class=\"Table__TD Table__TD\">9</td><td class=\"Table__TD Table__TD\">10</td><td class=\"Table__TD Table__TD\">0</td><td class=\"Table__TD Table__TD\">0</td><td class=\"Table__TD Table__TD\">0</td><td class=\"Table__TD Table__TD\">0</td><td class=\"Table__TD Table__TD\">0</td><td class=\"Table__TD Table__TD\">-3</td><td class=\"Table__TD Table__TD\">9</td></tr>\n",
      "\n",
      "\n",
      "<tr class=\"Table__TR Table__TR--sm Table__even\" data-idx=\"2\"><td class=\"Table__TD\"><div class=\"flex\"><a class=\"AnchorLink truncate db external Boxscore__AthleteName\" data-player-uid=\"s:40~l:46~a:3133628\" href=\"https://www.espn.com/nba/player/_/id/3133628/myles-turner\" tabindex=\"0\">M. Turner</a><span class=\"playerPosition pl2\"> <!-- -->C</span></div></td></tr>\n",
      "<tr class=\"Table__TR Table__TR--sm Table__even\" data-idx=\"2\"><td class=\"Table__TD Table__TD\">18</td><td class=\"Table__TD Table__TD\">3-8</td><td class=\"Table__TD Table__TD\">0-1</td><td class=\"Table__TD Table__TD\">6-6</td><td class=\"Table__TD Table__TD\">0</td><td class=\"Table__TD Table__TD\">3</td><td class=\"Table__TD Table__TD\">3</td><td class=\"Table__TD Table__TD\">3</td><td class=\"Table__TD Table__TD\">0</td><td class=\"Table__TD Table__TD\">2</td><td class=\"Table__TD Table__TD\">3</td><td class=\"Table__TD Table__TD\">3</td><td class=\"Table__TD Table__TD\">+6</td><td class=\"Table__TD Table__TD\">12</td></tr>\n",
      "\n",
      "\n",
      "<tr class=\"Table__TR Table__TR--sm Table__even\" data-idx=\"3\"><td class=\"Table__TD\"><div class=\"flex\"><a class=\"AnchorLink truncate db external Boxscore__AthleteName\" data-player-uid=\"s:40~l:46~a:4396993\" href=\"https://www.espn.com/nba/player/_/id/4396993/tyrese-haliburton\" tabindex=\"0\">T. Haliburton</a><span class=\"playerPosition pl2\"> <!-- -->PG</span></div></td></tr>\n",
      "<tr class=\"Table__TR Table__TR--sm Table__even\" data-idx=\"3\"><td class=\"Table__TD Table__TD\">22</td><td class=\"Table__TD Table__TD\">2-8</td><td class=\"Table__TD Table__TD\">1-5</td><td class=\"Table__TD Table__TD\">0-0</td><td class=\"Table__TD Table__TD\">0</td><td class=\"Table__TD Table__TD\">2</td><td class=\"Table__TD Table__TD\">2</td><td class=\"Table__TD Table__TD\">6</td><td class=\"Table__TD Table__TD\">0</td><td class=\"Table__TD Table__TD\">0</td><td class=\"Table__TD Table__TD\">3</td><td class=\"Table__TD Table__TD\">1</td><td class=\"Table__TD Table__TD\">-3</td><td class=\"Table__TD Table__TD\">5</td></tr>\n",
      "\n",
      "\n",
      "<tr class=\"Table__TR Table__TR--sm Table__even\" data-idx=\"4\"><td class=\"Table__TD\"><div class=\"flex\"><a class=\"AnchorLink truncate db external Boxscore__AthleteName\" data-player-uid=\"s:40~l:46~a:2990984\" href=\"https://www.espn.com/nba/player/_/id/2990984/buddy-hield\" tabindex=\"0\">B. Hield</a><span class=\"playerPosition pl2\"> <!-- -->SG</span></div></td></tr>\n",
      "<tr class=\"Table__TR Table__TR--sm Table__even\" data-idx=\"4\"><td class=\"Table__TD Table__TD\">20</td><td class=\"Table__TD Table__TD\">3-8</td><td class=\"Table__TD Table__TD\">1-4</td><td class=\"Table__TD Table__TD\">0-0</td><td class=\"Table__TD Table__TD\">0</td><td class=\"Table__TD Table__TD\">5</td><td class=\"Table__TD Table__TD\">5</td><td class=\"Table__TD Table__TD\">2</td><td class=\"Table__TD Table__TD\">3</td><td class=\"Table__TD Table__TD\">0</td><td class=\"Table__TD Table__TD\">1</td><td class=\"Table__TD Table__TD\">2</td><td class=\"Table__TD Table__TD\">-2</td><td class=\"Table__TD Table__TD\">7</td></tr>\n",
      "\n",
      "\n",
      "<tr class=\"Table__TR Table__TR--sm Table__even\" data-idx=\"5\"><td class=\"Table__TD\"><div class=\"flex\"><a class=\"AnchorLink truncate db external Boxscore__AthleteName\" data-player-uid=\"s:40~l:46~a:4592402\" href=\"https://www.espn.com/nba/player/_/id/4592402/chris-duarte\" tabindex=\"0\">C. Duarte</a><span class=\"playerPosition pl2\"> <!-- -->SG</span></div></td></tr>\n",
      "<tr class=\"Table__TR Table__TR--sm Table__even\" data-idx=\"5\"><td class=\"Table__TD Table__TD\">22</td><td class=\"Table__TD Table__TD\">4-7</td><td class=\"Table__TD Table__TD\">0-2</td><td class=\"Table__TD Table__TD\">4-4</td><td class=\"Table__TD Table__TD\">0</td><td class=\"Table__TD Table__TD\">6</td><td class=\"Table__TD Table__TD\">6</td><td class=\"Table__TD Table__TD\">2</td><td class=\"Table__TD Table__TD\">0</td><td class=\"Table__TD Table__TD\">0</td><td class=\"Table__TD Table__TD\">1</td><td class=\"Table__TD Table__TD\">4</td><td class=\"Table__TD Table__TD\">-3</td><td class=\"Table__TD Table__TD\">12</td></tr>\n",
      "\n",
      "\n",
      "<tr class=\"Table__TR Table__TR--sm Table__even\" data-idx=\"6\"><td class=\"Table__customHeader Table__TD\"><div class=\"Table__customHeader\">bench</div></td></tr>\n",
      "<tr class=\"Table__TR Table__TR--sm Table__even\" data-idx=\"6\"><td class=\"Table__customHeader Table__TD\"><div class=\"Table__customHeader\">MIN</div></td><td class=\"Table__customHeader Table__TD\"><div class=\"Table__customHeader\">FG</div></td><td class=\"Table__customHeader Table__TD\"><div class=\"Table__customHeader\">3PT</div></td><td class=\"Table__customHeader Table__TD\"><div class=\"Table__customHeader\">FT</div></td><td class=\"Table__customHeader Table__TD\"><div class=\"Table__customHeader\">OREB</div></td><td class=\"Table__customHeader Table__TD\"><div class=\"Table__customHeader\">DREB</div></td><td class=\"Table__customHeader Table__TD\"><div class=\"Table__customHeader\">REB</div></td><td class=\"Table__customHeader Table__TD\"><div class=\"Table__customHeader\">AST</div></td><td class=\"Table__customHeader Table__TD\"><div class=\"Table__customHeader\">STL</div></td><td class=\"Table__customHeader Table__TD\"><div class=\"Table__customHeader\">BLK</div></td><td class=\"Table__customHeader Table__TD\"><div class=\"Table__customHeader\">TO</div></td><td class=\"Table__customHeader Table__TD\"><div class=\"Table__customHeader\">PF</div></td><td class=\"Table__customHeader Table__TD\"><div class=\"Table__customHeader\">+/-</div></td><td class=\"Table__customHeader Table__TD\"><div class=\"Table__customHeader\">PTS</div></td></tr>\n",
      "\n",
      "\n",
      "<tr class=\"Table__TR Table__TR--sm Table__even\" data-idx=\"7\"><td class=\"Table__TD\"><div class=\"flex\"><a class=\"AnchorLink truncate db external Boxscore__AthleteName\" data-player-uid=\"s:40~l:46~a:3999\" href=\"https://www.espn.com/nba/player/_/id/3999/james-johnson\" tabindex=\"0\">J. Johnson</a><span class=\"playerPosition pl2\"> <!-- -->PF</span></div></td></tr>\n",
      "<tr class=\"Table__TR Table__TR--sm Table__even\" data-idx=\"7\"><td class=\"Table__TD Table__TD\">13</td><td class=\"Table__TD Table__TD\">2-3</td><td class=\"Table__TD Table__TD\">0-1</td><td class=\"Table__TD Table__TD\">0-0</td><td class=\"Table__TD Table__TD\">1</td><td class=\"Table__TD Table__TD\">1</td><td class=\"Table__TD Table__TD\">2</td><td class=\"Table__TD Table__TD\">1</td><td class=\"Table__TD Table__TD\">1</td><td class=\"Table__TD Table__TD\">0</td><td class=\"Table__TD Table__TD\">2</td><td class=\"Table__TD Table__TD\">4</td><td class=\"Table__TD Table__TD\">+11</td><td class=\"Table__TD Table__TD\">4</td></tr>\n",
      "\n",
      "\n",
      "<tr class=\"Table__TR Table__TR--sm Table__even\" data-idx=\"8\"><td class=\"Table__TD\"><div class=\"flex\"><a class=\"AnchorLink truncate db external Boxscore__AthleteName\" data-player-uid=\"s:40~l:46~a:4423883\" href=\"https://www.espn.com/nba/player/_/id/4423883/deividas-sirvydis\" tabindex=\"0\">D. Sirvydis</a><span class=\"playerPosition pl2\"> <!-- -->F</span></div></td></tr>\n",
      "<tr class=\"Table__TR Table__TR--sm Table__even\" data-idx=\"8\"><td class=\"Table__TD Table__TD\">3</td><td class=\"Table__TD Table__TD\">0-0</td><td class=\"Table__TD Table__TD\">0-0</td><td class=\"Table__TD Table__TD\">0-0</td><td class=\"Table__TD Table__TD\">0</td><td class=\"Table__TD Table__TD\">0</td><td class=\"Table__TD Table__TD\">0</td><td class=\"Table__TD Table__TD\">0</td><td class=\"Table__TD Table__TD\">0</td><td class=\"Table__TD Table__TD\">0</td><td class=\"Table__TD Table__TD\">1</td><td class=\"Table__TD Table__TD\">2</td><td class=\"Table__TD Table__TD\">+8</td><td class=\"Table__TD Table__TD\">0</td></tr>\n",
      "\n",
      "\n",
      "<tr class=\"Table__TR Table__TR--sm Table__even\" data-idx=\"9\"><td class=\"Table__TD\"><div class=\"flex\"><a class=\"AnchorLink truncate db external Boxscore__AthleteName\" data-player-uid=\"s:40~l:46~a:4278031\" href=\"https://www.espn.com/nba/player/_/id/4278031/oshae-brissett\" tabindex=\"0\">O. Brissett</a><span class=\"playerPosition pl2\"> <!-- -->SF</span></div></td></tr>\n",
      "<tr class=\"Table__TR Table__TR--sm Table__even\" data-idx=\"9\"><td class=\"Table__TD Table__TD\">12</td><td class=\"Table__TD Table__TD\">2-3</td><td class=\"Table__TD Table__TD\">1-2</td><td class=\"Table__TD Table__TD\">1-1</td><td class=\"Table__TD Table__TD\">0</td><td class=\"Table__TD Table__TD\">3</td><td class=\"Table__TD Table__TD\">3</td><td class=\"Table__TD Table__TD\">0</td><td class=\"Table__TD Table__TD\">1</td><td class=\"Table__TD Table__TD\">1</td><td class=\"Table__TD Table__TD\">1</td><td class=\"Table__TD Table__TD\">2</td><td class=\"Table__TD Table__TD\">-2</td><td class=\"Table__TD Table__TD\">6</td></tr>\n",
      "\n",
      "\n",
      "<tr class=\"Table__TR Table__TR--sm Table__even\" data-idx=\"10\"><td class=\"Table__TD\"><div class=\"flex\"><a class=\"AnchorLink truncate db external Boxscore__AthleteName\" data-player-uid=\"s:40~l:46~a:4279815\" href=\"https://www.espn.com/nba/player/_/id/4279815/terry-taylor\" tabindex=\"0\">T. Taylor</a><span class=\"playerPosition pl2\"> <!-- -->SF</span></div></td></tr>\n",
      "<tr class=\"Table__TR Table__TR--sm Table__even\" data-idx=\"10\"><td class=\"Table__TD Table__TD\">15</td><td class=\"Table__TD Table__TD\">2-3</td><td class=\"Table__TD Table__TD\">0-1</td><td class=\"Table__TD Table__TD\">0-0</td><td class=\"Table__TD Table__TD\">1</td><td class=\"Table__TD Table__TD\">1</td><td class=\"Table__TD Table__TD\">2</td><td class=\"Table__TD Table__TD\">0</td><td class=\"Table__TD Table__TD\">0</td><td class=\"Table__TD Table__TD\">0</td><td class=\"Table__TD Table__TD\">1</td><td class=\"Table__TD Table__TD\">1</td><td class=\"Table__TD Table__TD\">+33</td><td class=\"Table__TD Table__TD\">4</td></tr>\n",
      "\n",
      "\n",
      "<tr class=\"Table__TR Table__TR--sm Table__even\" data-idx=\"11\"><td class=\"Table__TD\"><div class=\"flex\"><a class=\"AnchorLink truncate db external Boxscore__AthleteName\" data-player-uid=\"s:40~l:46~a:4396909\" href=\"https://www.espn.com/nba/player/_/id/4396909/aaron-nesmith\" tabindex=\"0\">A. Nesmith</a><span class=\"playerPosition pl2\"> <!-- -->SF</span></div></td></tr>\n",
      "<tr class=\"Table__TR Table__TR--sm Table__even\" data-idx=\"11\"><td class=\"Table__TD Table__TD\">14</td><td class=\"Table__TD Table__TD\">4-8</td><td class=\"Table__TD Table__TD\">2-5</td><td class=\"Table__TD Table__TD\">6-6</td><td class=\"Table__TD Table__TD\">0</td><td class=\"Table__TD Table__TD\">4</td><td class=\"Table__TD Table__TD\">4</td><td class=\"Table__TD Table__TD\">0</td><td class=\"Table__TD Table__TD\">0</td><td class=\"Table__TD Table__TD\">0</td><td class=\"Table__TD Table__TD\">0</td><td class=\"Table__TD Table__TD\">1</td><td class=\"Table__TD Table__TD\">+30</td><td class=\"Table__TD Table__TD\">16</td></tr>\n",
      "\n",
      "\n",
      "<tr class=\"Table__TR Table__TR--sm Table__even\" data-idx=\"12\"><td class=\"Table__TD\"><div class=\"flex\"><a class=\"AnchorLink truncate db external Boxscore__AthleteName\" data-player-uid=\"s:40~l:46~a:4432170\" href=\"https://www.espn.com/nba/player/_/id/4432170/isaiah-jackson\" tabindex=\"0\">I. Jackson</a><span class=\"playerPosition pl2\"> <!-- -->SF</span></div></td></tr>\n",
      "<tr class=\"Table__TR Table__TR--sm Table__even\" data-idx=\"12\"><td class=\"Table__TD Table__TD\">16</td><td class=\"Table__TD Table__TD\">5-8</td><td class=\"Table__TD Table__TD\">0-1</td><td class=\"Table__TD Table__TD\">3-4</td><td class=\"Table__TD Table__TD\">2</td><td class=\"Table__TD Table__TD\">4</td><td class=\"Table__TD Table__TD\">6</td><td class=\"Table__TD Table__TD\">1</td><td class=\"Table__TD Table__TD\">0</td><td class=\"Table__TD Table__TD\">4</td><td class=\"Table__TD Table__TD\">2</td><td class=\"Table__TD Table__TD\">4</td><td class=\"Table__TD Table__TD\">+5</td><td class=\"Table__TD Table__TD\">13</td></tr>\n",
      "\n",
      "\n",
      "<tr class=\"Table__TR Table__TR--sm Table__even\" data-idx=\"13\"><td class=\"Table__TD\"><div class=\"flex\"><a class=\"AnchorLink truncate db external Boxscore__AthleteName\" data-player-uid=\"s:40~l:46~a:2530530\" href=\"https://www.espn.com/nba/player/_/id/2530530/tj-mcconnell\" tabindex=\"0\">T.J. McConnell</a><span class=\"playerPosition pl2\"> <!-- -->PG</span></div></td></tr>\n",
      "<tr class=\"Table__TR Table__TR--sm Table__even\" data-idx=\"13\"><td class=\"Table__TD Table__TD\">14</td><td class=\"Table__TD Table__TD\">3-5</td><td class=\"Table__TD Table__TD\">0-0</td><td class=\"Table__TD Table__TD\">0-0</td><td class=\"Table__TD Table__TD\">0</td><td class=\"Table__TD Table__TD\">4</td><td class=\"Table__TD Table__TD\">4</td><td class=\"Table__TD Table__TD\">6</td><td class=\"Table__TD Table__TD\">1</td><td class=\"Table__TD Table__TD\">1</td><td class=\"Table__TD Table__TD\">1</td><td class=\"Table__TD Table__TD\">2</td><td class=\"Table__TD Table__TD\">+30</td><td class=\"Table__TD Table__TD\">6</td></tr>\n",
      "\n",
      "\n",
      "<tr class=\"Table__TR Table__TR--sm Table__even\" data-idx=\"14\"><td class=\"Table__TD\"><div class=\"flex\"><a class=\"AnchorLink truncate db external Boxscore__AthleteName\" data-player-uid=\"s:40~l:46~a:4395712\" href=\"https://www.espn.com/nba/player/_/id/4395712/andrew-nembhard\" tabindex=\"0\">A. Nembhard</a><span class=\"playerPosition pl2\"> <!-- -->PG</span></div></td></tr>\n",
      "<tr class=\"Table__TR Table__TR--sm Table__even\" data-idx=\"14\"><td class=\"Table__TD Table__TD\">12</td><td class=\"Table__TD Table__TD\">4-8</td><td class=\"Table__TD Table__TD\">0-0</td><td class=\"Table__TD Table__TD\">0-0</td><td class=\"Table__TD Table__TD\">0</td><td class=\"Table__TD Table__TD\">2</td><td class=\"Table__TD Table__TD\">2</td><td class=\"Table__TD Table__TD\">3</td><td class=\"Table__TD Table__TD\">0</td><td class=\"Table__TD Table__TD\">0</td><td class=\"Table__TD Table__TD\">0</td><td class=\"Table__TD Table__TD\">0</td><td class=\"Table__TD Table__TD\">-2</td><td class=\"Table__TD Table__TD\">8</td></tr>\n",
      "\n",
      "\n",
      "<tr class=\"Table__TR Table__TR--sm Table__even\" data-idx=\"15\"><td class=\"Table__TD\"><div class=\"flex\"><a class=\"AnchorLink truncate db external Boxscore__AthleteName\" data-player-uid=\"s:40~l:46~a:2530572\" href=\"https://www.espn.com/nba/player/_/id/2530572/langston-galloway\" tabindex=\"0\">L. Galloway</a><span class=\"playerPosition pl2\"> <!-- -->SG</span></div></td></tr>\n",
      "<tr class=\"Table__TR Table__TR--sm Table__even\" data-idx=\"15\"><td class=\"Table__TD Table__TD\">3</td><td class=\"Table__TD Table__TD\">1-1</td><td class=\"Table__TD Table__TD\">1-1</td><td class=\"Table__TD Table__TD\">0-0</td><td class=\"Table__TD Table__TD\">0</td><td class=\"Table__TD Table__TD\">1</td><td class=\"Table__TD Table__TD\">1</td><td class=\"Table__TD Table__TD\">0</td><td class=\"Table__TD Table__TD\">0</td><td class=\"Table__TD Table__TD\">0</td><td class=\"Table__TD Table__TD\">1</td><td class=\"Table__TD Table__TD\">1</td><td class=\"Table__TD Table__TD\">+8</td><td class=\"Table__TD Table__TD\">3</td></tr>\n",
      "\n",
      "\n",
      "<tr class=\"Table__TR Table__TR--sm Table__even\" data-idx=\"16\"><td class=\"Table__TD\"><div class=\"flex\"><a class=\"AnchorLink truncate db external Boxscore__AthleteName\" data-player-uid=\"s:40~l:46~a:4433254\" href=\"https://www.espn.com/nba/player/_/id/4433254/kendall-brown\" tabindex=\"0\">K. Brown</a><span class=\"playerPosition pl2\"> <!-- -->SG</span></div></td></tr>\n",
      "<tr class=\"Table__TR Table__TR--sm Table__even\" data-idx=\"16\"><td class=\"Table__TD Table__TD\">14</td><td class=\"Table__TD Table__TD\">1-2</td><td class=\"Table__TD Table__TD\">0-1</td><td class=\"Table__TD Table__TD\">0-0</td><td class=\"Table__TD Table__TD\">1</td><td class=\"Table__TD Table__TD\">1</td><td class=\"Table__TD Table__TD\">2</td><td class=\"Table__TD Table__TD\">2</td><td class=\"Table__TD Table__TD\">1</td><td class=\"Table__TD Table__TD\">0</td><td class=\"Table__TD Table__TD\">1</td><td class=\"Table__TD Table__TD\">1</td><td class=\"Table__TD Table__TD\">+6</td><td class=\"Table__TD Table__TD\">2</td></tr>\n",
      "\n",
      "\n",
      "<tr class=\"Table__TR Table__TR--sm Table__even\" data-idx=\"17\"><td class=\"Table__TD\"><div class=\"flex\"><a class=\"AnchorLink truncate db external Boxscore__AthleteName\" data-player-uid=\"s:40~l:46~a:4683634\" href=\"https://www.espn.com/nba/player/_/id/4683634/bennedict-mathurin\" tabindex=\"0\">B. Mathurin</a><span class=\"playerPosition pl2\"> <!-- -->SG</span></div></td></tr>\n",
      "<tr class=\"Table__TR Table__TR--sm Table__even\" data-idx=\"17\"><td class=\"Table__TD Table__TD\">19</td><td class=\"Table__TD Table__TD\">5-10</td><td class=\"Table__TD Table__TD\">0-4</td><td class=\"Table__TD Table__TD\">5-5</td><td class=\"Table__TD Table__TD\">1</td><td class=\"Table__TD Table__TD\">0</td><td class=\"Table__TD Table__TD\">1</td><td class=\"Table__TD Table__TD\">1</td><td class=\"Table__TD Table__TD\">0</td><td class=\"Table__TD Table__TD\">0</td><td class=\"Table__TD Table__TD\">1</td><td class=\"Table__TD Table__TD\">2</td><td class=\"Table__TD Table__TD\">+3</td><td class=\"Table__TD Table__TD\">15</td></tr>\n",
      "\n",
      "\n",
      "<tr class=\"Table__TR Table__TR--sm Table__even\" data-idx=\"18\"><td class=\"Table__TD\"><div class=\"flex\"><a class=\"AnchorLink truncate db external Boxscore__AthleteName\" data-player-uid=\"s:40~l:46~a:2451037\" href=\"https://www.espn.com/nba/player/_/id/2451037/daniel-theis\" tabindex=\"0\">D. Theis</a><span class=\"playerPosition pl2\"> <!-- -->C</span></div></td></tr>\n",
      "<tr class=\"Table__TR Table__TR--sm Table__even\" data-idx=\"18\"><td class=\"tc td Table__TD\" colspan=\"15\">DNP-COACH'S DECISION</td></tr>\n",
      "\n",
      "\n",
      "<tr class=\"Table__TR Table__TR--sm Table__even\" data-idx=\"19\"><td class=\"Table__TD\"><div class=\"flex\"><a class=\"AnchorLink truncate db external Boxscore__AthleteName\" data-player-uid=\"s:40~l:46~a:4348700\" href=\"https://www.espn.com/nba/player/_/id/4348700/goga-bitadze\" tabindex=\"0\">G. Bitadze</a><span class=\"playerPosition pl2\"> <!-- -->C</span></div></td></tr>\n",
      "<tr class=\"Table__TR Table__TR--sm Table__even\" data-idx=\"19\"><td class=\"tc td Table__TD\" colspan=\"15\">DNP-COACH'S DECISION</td></tr>\n",
      "\n",
      "\n",
      "<tr class=\"Table__TR Table__TR--sm Table__even\" data-idx=\"20\"><td class=\"Table__customHeader Table__TD\"><div class=\"Table__customHeader\">team</div></td></tr>\n",
      "<tr class=\"Table__TR Table__TR--sm Table__even\" data-idx=\"20\"><td class=\"Table__customHeader Table__TD\"><div class=\"Table__customHeader\"></div></td><td class=\"Table__customHeader Table__TD\"><div class=\"Table__customHeader\">45-93</div></td><td class=\"Table__customHeader Table__TD\"><div class=\"Table__customHeader\">6-30</div></td><td class=\"Table__customHeader Table__TD\"><div class=\"Table__customHeader\">26-27</div></td><td class=\"Table__customHeader Table__TD\"><div class=\"Table__customHeader\">7</div></td><td class=\"Table__customHeader Table__TD\"><div class=\"Table__customHeader\">46</div></td><td class=\"Table__customHeader Table__TD\"><div class=\"Table__customHeader\">53</div></td><td class=\"Table__customHeader Table__TD\"><div class=\"Table__customHeader\">27</div></td><td class=\"Table__customHeader Table__TD\"><div class=\"Table__customHeader\">7</div></td><td class=\"Table__customHeader Table__TD\"><div class=\"Table__customHeader\">8</div></td><td class=\"Table__customHeader Table__TD\"><div class=\"Table__customHeader\">19</div></td><td class=\"Table__customHeader Table__TD\"><div class=\"Table__customHeader\">30</div></td><td class=\"Table__customHeader Table__TD\"><div class=\"Table__customHeader\"></div></td><td class=\"Table__customHeader Table__TD\"><div class=\"Table__customHeader\">122</div></td></tr>\n",
      "\n",
      "\n",
      "<tr class=\"Table__TR Table__TR--sm Table__even\" data-idx=\"21\"><td class=\"Table__customHeader Table__TD\"><div class=\"Table__customHeader\"></div></td></tr>\n",
      "<tr class=\"Table__TR Table__TR--sm Table__even\" data-idx=\"21\"><td class=\"Table__customHeader Table__TD\"><div class=\"Table__customHeader\"></div></td><td class=\"Table__customHeader Table__TD\"><div class=\"Table__customHeader\">48.4%</div></td><td class=\"Table__customHeader Table__TD\"><div class=\"Table__customHeader\">20.0%</div></td><td class=\"Table__customHeader Table__TD\"><div class=\"Table__customHeader\">96.3%</div></td><td class=\"Table__customHeader Table__TD\"><div class=\"Table__customHeader\"></div></td><td class=\"Table__customHeader Table__TD\"><div class=\"Table__customHeader\"></div></td><td class=\"Table__customHeader Table__TD\"><div class=\"Table__customHeader\"></div></td><td class=\"Table__customHeader Table__TD\"><div class=\"Table__customHeader\"></div></td><td class=\"Table__customHeader Table__TD\"><div class=\"Table__customHeader\"></div></td><td class=\"Table__customHeader Table__TD\"><div class=\"Table__customHeader\"></div></td><td class=\"Table__customHeader Table__TD\"><div class=\"Table__customHeader\"></div></td><td class=\"Table__customHeader Table__TD\"><div class=\"Table__customHeader\"></div></td><td class=\"Table__customHeader Table__TD\"><div class=\"Table__customHeader\"></div></td><td class=\"Table__customHeader Table__TD\"><div class=\"Table__customHeader\"></div></td></tr>\n",
      "\n",
      "\n",
      "22\n",
      "Charlotte Hornets\n",
      "24\n",
      "<tr class=\"Table__TR Table__TR--sm Table__even\" data-idx=\"0\"><td class=\"Table__customHeader Table__TD\"><div class=\"Table__customHeader\">starters</div></td></tr>\n",
      "<tr class=\"Table__TR Table__TR--sm Table__even\" data-idx=\"0\"><td class=\"Table__customHeader Table__TD\"><div class=\"Table__customHeader\">MIN</div></td><td class=\"Table__customHeader Table__TD\"><div class=\"Table__customHeader\">FG</div></td><td class=\"Table__customHeader Table__TD\"><div class=\"Table__customHeader\">3PT</div></td><td class=\"Table__customHeader Table__TD\"><div class=\"Table__customHeader\">FT</div></td><td class=\"Table__customHeader Table__TD\"><div class=\"Table__customHeader\">OREB</div></td><td class=\"Table__customHeader Table__TD\"><div class=\"Table__customHeader\">DREB</div></td><td class=\"Table__customHeader Table__TD\"><div class=\"Table__customHeader\">REB</div></td><td class=\"Table__customHeader Table__TD\"><div class=\"Table__customHeader\">AST</div></td><td class=\"Table__customHeader Table__TD\"><div class=\"Table__customHeader\">STL</div></td><td class=\"Table__customHeader Table__TD\"><div class=\"Table__customHeader\">BLK</div></td><td class=\"Table__customHeader Table__TD\"><div class=\"Table__customHeader\">TO</div></td><td class=\"Table__customHeader Table__TD\"><div class=\"Table__customHeader\">PF</div></td><td class=\"Table__customHeader Table__TD\"><div class=\"Table__customHeader\">+/-</div></td><td class=\"Table__customHeader Table__TD\"><div class=\"Table__customHeader\">PTS</div></td></tr>\n",
      "\n",
      "\n",
      "<tr class=\"Table__TR Table__TR--sm Table__even\" data-idx=\"1\"><td class=\"Table__TD\"><div class=\"flex\"><a class=\"AnchorLink truncate db external Boxscore__AthleteName\" data-player-uid=\"s:40~l:46~a:4278078\" href=\"https://www.espn.com/nba/player/_/id/4278078/pj-washington\" tabindex=\"0\">P.J. Washington</a><span class=\"playerPosition pl2\"> <!-- -->PF</span></div></td></tr>\n",
      "<tr class=\"Table__TR Table__TR--sm Table__even\" data-idx=\"1\"><td class=\"Table__TD Table__TD\">23</td><td class=\"Table__TD Table__TD\">5-11</td><td class=\"Table__TD Table__TD\">2-7</td><td class=\"Table__TD Table__TD\">1-2</td><td class=\"Table__TD Table__TD\">1</td><td class=\"Table__TD Table__TD\">1</td><td class=\"Table__TD Table__TD\">2</td><td class=\"Table__TD Table__TD\">0</td><td class=\"Table__TD Table__TD\">0</td><td class=\"Table__TD Table__TD\">1</td><td class=\"Table__TD Table__TD\">2</td><td class=\"Table__TD Table__TD\">4</td><td class=\"Table__TD Table__TD\">+1</td><td class=\"Table__TD Table__TD\">13</td></tr>\n",
      "\n",
      "\n",
      "<tr class=\"Table__TR Table__TR--sm Table__even\" data-idx=\"2\"><td class=\"Table__TD\"><div class=\"flex\"><a class=\"AnchorLink truncate db external Boxscore__AthleteName\" data-player-uid=\"s:40~l:46~a:2488653\" href=\"https://www.espn.com/nba/player/_/id/2488653/mason-plumlee\" tabindex=\"0\">M. Plumlee</a><span class=\"playerPosition pl2\"> <!-- -->C</span></div></td></tr>\n",
      "<tr class=\"Table__TR Table__TR--sm Table__even\" data-idx=\"2\"><td class=\"Table__TD Table__TD\">22</td><td class=\"Table__TD Table__TD\">3-10</td><td class=\"Table__TD Table__TD\">0-0</td><td class=\"Table__TD Table__TD\">2-3</td><td class=\"Table__TD Table__TD\">2</td><td class=\"Table__TD Table__TD\">7</td><td class=\"Table__TD Table__TD\">9</td><td class=\"Table__TD Table__TD\">2</td><td class=\"Table__TD Table__TD\">2</td><td class=\"Table__TD Table__TD\">1</td><td class=\"Table__TD Table__TD\">2</td><td class=\"Table__TD Table__TD\">4</td><td class=\"Table__TD Table__TD\">+3</td><td class=\"Table__TD Table__TD\">8</td></tr>\n",
      "\n",
      "\n",
      "<tr class=\"Table__TR Table__TR--sm Table__even\" data-idx=\"3\"><td class=\"Table__TD\"><div class=\"flex\"><a class=\"AnchorLink truncate db external Boxscore__AthleteName\" data-player-uid=\"s:40~l:46~a:4432816\" href=\"https://www.espn.com/nba/player/_/id/4432816/lamelo-ball\" tabindex=\"0\">La. Ball</a><span class=\"playerPosition pl2\"> <!-- -->PG</span></div></td></tr>\n",
      "<tr class=\"Table__TR Table__TR--sm Table__even\" data-idx=\"3\"><td class=\"Table__TD Table__TD\">27</td><td class=\"Table__TD Table__TD\">5-13</td><td class=\"Table__TD Table__TD\">0-3</td><td class=\"Table__TD Table__TD\">2-4</td><td class=\"Table__TD Table__TD\">2</td><td class=\"Table__TD Table__TD\">3</td><td class=\"Table__TD Table__TD\">5</td><td class=\"Table__TD Table__TD\">7</td><td class=\"Table__TD Table__TD\">1</td><td class=\"Table__TD Table__TD\">0</td><td class=\"Table__TD Table__TD\">4</td><td class=\"Table__TD Table__TD\">3</td><td class=\"Table__TD Table__TD\">-12</td><td class=\"Table__TD Table__TD\">12</td></tr>\n",
      "\n",
      "\n",
      "<tr class=\"Table__TR Table__TR--sm Table__even\" data-idx=\"4\"><td class=\"Table__TD\"><div class=\"flex\"><a class=\"AnchorLink truncate db external Boxscore__AthleteName\" data-player-uid=\"s:40~l:46~a:3074752\" href=\"https://www.espn.com/nba/player/_/id/3074752/terry-rozier\" tabindex=\"0\">T. Rozier</a><span class=\"playerPosition pl2\"> <!-- -->SG</span></div></td></tr>\n",
      "<tr class=\"Table__TR Table__TR--sm Table__even\" data-idx=\"4\"><td class=\"Table__TD Table__TD\">30</td><td class=\"Table__TD Table__TD\">5-11</td><td class=\"Table__TD Table__TD\">3-8</td><td class=\"Table__TD Table__TD\">5-6</td><td class=\"Table__TD Table__TD\">1</td><td class=\"Table__TD Table__TD\">2</td><td class=\"Table__TD Table__TD\">3</td><td class=\"Table__TD Table__TD\">5</td><td class=\"Table__TD Table__TD\">0</td><td class=\"Table__TD Table__TD\">0</td><td class=\"Table__TD Table__TD\">1</td><td class=\"Table__TD Table__TD\">5</td><td class=\"Table__TD Table__TD\">+4</td><td class=\"Table__TD Table__TD\">18</td></tr>\n",
      "\n",
      "\n",
      "<tr class=\"Table__TR Table__TR--sm Table__even\" data-idx=\"5\"><td class=\"Table__TD\"><div class=\"flex\"><a class=\"AnchorLink truncate db external Boxscore__AthleteName\" data-player-uid=\"s:40~l:46~a:3133603\" href=\"https://www.espn.com/nba/player/_/id/3133603/kelly-oubre-jr\" tabindex=\"0\">K. Oubre Jr.</a><span class=\"playerPosition pl2\"> <!-- -->SG</span></div></td></tr>\n",
      "<tr class=\"Table__TR Table__TR--sm Table__even\" data-idx=\"5\"><td class=\"Table__TD Table__TD\">26</td><td class=\"Table__TD Table__TD\">3-14</td><td class=\"Table__TD Table__TD\">2-9</td><td class=\"Table__TD Table__TD\">3-4</td><td class=\"Table__TD Table__TD\">0</td><td class=\"Table__TD Table__TD\">9</td><td class=\"Table__TD Table__TD\">9</td><td class=\"Table__TD Table__TD\">1</td><td class=\"Table__TD Table__TD\">2</td><td class=\"Table__TD Table__TD\">1</td><td class=\"Table__TD Table__TD\">0</td><td class=\"Table__TD Table__TD\">0</td><td class=\"Table__TD Table__TD\">-5</td><td class=\"Table__TD Table__TD\">11</td></tr>\n",
      "\n",
      "\n",
      "<tr class=\"Table__TR Table__TR--sm Table__even\" data-idx=\"6\"><td class=\"Table__customHeader Table__TD\"><div class=\"Table__customHeader\">bench</div></td></tr>\n",
      "<tr class=\"Table__TR Table__TR--sm Table__even\" data-idx=\"6\"><td class=\"Table__customHeader Table__TD\"><div class=\"Table__customHeader\">MIN</div></td><td class=\"Table__customHeader Table__TD\"><div class=\"Table__customHeader\">FG</div></td><td class=\"Table__customHeader Table__TD\"><div class=\"Table__customHeader\">3PT</div></td><td class=\"Table__customHeader Table__TD\"><div class=\"Table__customHeader\">FT</div></td><td class=\"Table__customHeader Table__TD\"><div class=\"Table__customHeader\">OREB</div></td><td class=\"Table__customHeader Table__TD\"><div class=\"Table__customHeader\">DREB</div></td><td class=\"Table__customHeader Table__TD\"><div class=\"Table__customHeader\">REB</div></td><td class=\"Table__customHeader Table__TD\"><div class=\"Table__customHeader\">AST</div></td><td class=\"Table__customHeader Table__TD\"><div class=\"Table__customHeader\">STL</div></td><td class=\"Table__customHeader Table__TD\"><div class=\"Table__customHeader\">BLK</div></td><td class=\"Table__customHeader Table__TD\"><div class=\"Table__customHeader\">TO</div></td><td class=\"Table__customHeader Table__TD\"><div class=\"Table__customHeader\">PF</div></td><td class=\"Table__customHeader Table__TD\"><div class=\"Table__customHeader\">+/-</div></td><td class=\"Table__customHeader Table__TD\"><div class=\"Table__customHeader\">PTS</div></td></tr>\n",
      "\n",
      "\n",
      "<tr class=\"Table__TR Table__TR--sm Table__even\" data-idx=\"7\"><td class=\"Table__TD\"><div class=\"flex\"><a class=\"AnchorLink truncate db external Boxscore__AthleteName\" data-player-uid=\"s:40~l:46~a:4066731\" href=\"https://www.espn.com/nba/player/_/id/4066731/jalen-mcdaniels\" tabindex=\"0\">J. McDaniels</a><span class=\"playerPosition pl2\"> <!-- -->PF</span></div></td></tr>\n",
      "<tr class=\"Table__TR Table__TR--sm Table__even\" data-idx=\"7\"><td class=\"Table__TD Table__TD\">17</td><td class=\"Table__TD Table__TD\">2-6</td><td class=\"Table__TD Table__TD\">0-3</td><td class=\"Table__TD Table__TD\">0-0</td><td class=\"Table__TD Table__TD\">2</td><td class=\"Table__TD Table__TD\">3</td><td class=\"Table__TD Table__TD\">5</td><td class=\"Table__TD Table__TD\">1</td><td class=\"Table__TD Table__TD\">0</td><td class=\"Table__TD Table__TD\">0</td><td class=\"Table__TD Table__TD\">0</td><td class=\"Table__TD Table__TD\">3</td><td class=\"Table__TD Table__TD\">-10</td><td class=\"Table__TD Table__TD\">4</td></tr>\n",
      "\n",
      "\n",
      "<tr class=\"Table__TR Table__TR--sm Table__even\" data-idx=\"8\"><td class=\"Table__TD\"><div class=\"flex\"><a class=\"AnchorLink truncate db external Boxscore__AthleteName\" data-player-uid=\"s:40~l:46~a:4431699\" href=\"https://www.espn.com/nba/player/_/id/4431699/kai-jones\" tabindex=\"0\">K. Jones</a><span class=\"playerPosition pl2\"> <!-- -->PF</span></div></td></tr>\n",
      "<tr class=\"Table__TR Table__TR--sm Table__even\" data-idx=\"8\"><td class=\"Table__TD Table__TD\">8</td><td class=\"Table__TD Table__TD\">0-3</td><td class=\"Table__TD Table__TD\">0-2</td><td class=\"Table__TD Table__TD\">1-2</td><td class=\"Table__TD Table__TD\">2</td><td class=\"Table__TD Table__TD\">0</td><td class=\"Table__TD Table__TD\">2</td><td class=\"Table__TD Table__TD\">1</td><td class=\"Table__TD Table__TD\">0</td><td class=\"Table__TD Table__TD\">0</td><td class=\"Table__TD Table__TD\">1</td><td class=\"Table__TD Table__TD\">1</td><td class=\"Table__TD Table__TD\">-10</td><td class=\"Table__TD Table__TD\">1</td></tr>\n",
      "\n",
      "\n",
      "<tr class=\"Table__TR Table__TR--sm Table__even\" data-idx=\"9\"><td class=\"Table__TD\"><div class=\"flex\"><a class=\"AnchorLink truncate db external Boxscore__AthleteName\" data-player-uid=\"s:40~l:46~a:4702233\" href=\"https://www.espn.com/nba/player/_/id/4702233/jt-thor\" tabindex=\"0\">J. Thor</a><span class=\"playerPosition pl2\"> <!-- -->PF</span></div></td></tr>\n",
      "<tr class=\"Table__TR Table__TR--sm Table__even\" data-idx=\"9\"><td class=\"Table__TD Table__TD\">17</td><td class=\"Table__TD Table__TD\">2-5</td><td class=\"Table__TD Table__TD\">0-2</td><td class=\"Table__TD Table__TD\">0-0</td><td class=\"Table__TD Table__TD\">0</td><td class=\"Table__TD Table__TD\">1</td><td class=\"Table__TD Table__TD\">1</td><td class=\"Table__TD Table__TD\">0</td><td class=\"Table__TD Table__TD\">0</td><td class=\"Table__TD Table__TD\">0</td><td class=\"Table__TD Table__TD\">0</td><td class=\"Table__TD Table__TD\">1</td><td class=\"Table__TD Table__TD\">-16</td><td class=\"Table__TD Table__TD\">4</td></tr>\n",
      "\n",
      "\n",
      "<tr class=\"Table__TR Table__TR--sm Table__even\" data-idx=\"10\"><td class=\"Table__TD\"><div class=\"flex\"><a class=\"AnchorLink truncate db external Boxscore__AthleteName\" data-player-uid=\"s:40~l:46~a:4278076\" href=\"https://www.espn.com/nba/player/_/id/4278076/nick-richards\" tabindex=\"0\">N. Richards</a><span class=\"playerPosition pl2\"> <!-- -->C</span></div></td></tr>\n",
      "<tr class=\"Table__TR Table__TR--sm Table__even\" data-idx=\"10\"><td class=\"Table__TD Table__TD\">17</td><td class=\"Table__TD Table__TD\">3-6</td><td class=\"Table__TD Table__TD\">0-0</td><td class=\"Table__TD Table__TD\">0-2</td><td class=\"Table__TD Table__TD\">3</td><td class=\"Table__TD Table__TD\">4</td><td class=\"Table__TD Table__TD\">7</td><td class=\"Table__TD Table__TD\">0</td><td class=\"Table__TD Table__TD\">1</td><td class=\"Table__TD Table__TD\">0</td><td class=\"Table__TD Table__TD\">1</td><td class=\"Table__TD Table__TD\">4</td><td class=\"Table__TD Table__TD\">-18</td><td class=\"Table__TD Table__TD\">6</td></tr>\n",
      "\n",
      "\n",
      "<tr class=\"Table__TR Table__TR--sm Table__even\" data-idx=\"11\"><td class=\"Table__TD\"><div class=\"flex\"><a class=\"AnchorLink truncate db external Boxscore__AthleteName\" data-player-uid=\"s:40~l:46~a:4701232\" href=\"https://www.espn.com/nba/player/_/id/4701232/mark-williams\" tabindex=\"0\">M. Williams</a><span class=\"playerPosition pl2\"> <!-- -->C</span></div></td></tr>\n",
      "<tr class=\"Table__TR Table__TR--sm Table__even\" data-idx=\"11\"><td class=\"Table__TD Table__TD\">8</td><td class=\"Table__TD Table__TD\">0-3</td><td class=\"Table__TD Table__TD\">0-0</td><td class=\"Table__TD Table__TD\">0-0</td><td class=\"Table__TD Table__TD\">2</td><td class=\"Table__TD Table__TD\">0</td><td class=\"Table__TD Table__TD\">2</td><td class=\"Table__TD Table__TD\">0</td><td class=\"Table__TD Table__TD\">0</td><td class=\"Table__TD Table__TD\">0</td><td class=\"Table__TD Table__TD\">2</td><td class=\"Table__TD Table__TD\">1</td><td class=\"Table__TD Table__TD\">-10</td><td class=\"Table__TD Table__TD\">0</td></tr>\n",
      "\n",
      "\n",
      "<tr class=\"Table__TR Table__TR--sm Table__even\" data-idx=\"12\"><td class=\"Table__TD\"><div class=\"flex\"><a class=\"AnchorLink truncate db external Boxscore__AthleteName\" data-player-uid=\"s:40~l:46~a:4431712\" href=\"https://www.espn.com/nba/player/_/id/4431712/james-bouknight\" tabindex=\"0\">J. Bouknight</a><span class=\"playerPosition pl2\"> <!-- -->SG</span></div></td></tr>\n",
      "<tr class=\"Table__TR Table__TR--sm Table__even\" data-idx=\"12\"><td class=\"Table__TD Table__TD\">20</td><td class=\"Table__TD Table__TD\">1-5</td><td class=\"Table__TD Table__TD\">0-3</td><td class=\"Table__TD Table__TD\">3-4</td><td class=\"Table__TD Table__TD\">0</td><td class=\"Table__TD Table__TD\">3</td><td class=\"Table__TD Table__TD\">3</td><td class=\"Table__TD Table__TD\">2</td><td class=\"Table__TD Table__TD\">0</td><td class=\"Table__TD Table__TD\">0</td><td class=\"Table__TD Table__TD\">3</td><td class=\"Table__TD Table__TD\">0</td><td class=\"Table__TD Table__TD\">-19</td><td class=\"Table__TD Table__TD\">5</td></tr>\n",
      "\n",
      "\n",
      "<tr class=\"Table__TR Table__TR--sm Table__even\" data-idx=\"13\"><td class=\"Table__TD\"><div class=\"flex\"><a class=\"AnchorLink truncate db external Boxscore__AthleteName\" data-player-uid=\"s:40~l:46~a:4278352\" href=\"https://www.espn.com/nba/player/_/id/4278352/jalen-crutcher\" tabindex=\"0\">J. Crutcher</a><span class=\"playerPosition pl2\"> <!-- -->G</span></div></td></tr>\n",
      "<tr class=\"Table__TR Table__TR--sm Table__even\" data-idx=\"13\"><td class=\"Table__TD Table__TD\">8</td><td class=\"Table__TD Table__TD\">2-2</td><td class=\"Table__TD Table__TD\">1-1</td><td class=\"Table__TD Table__TD\">0-0</td><td class=\"Table__TD Table__TD\">0</td><td class=\"Table__TD Table__TD\">0</td><td class=\"Table__TD Table__TD\">0</td><td class=\"Table__TD Table__TD\">0</td><td class=\"Table__TD Table__TD\">0</td><td class=\"Table__TD Table__TD\">0</td><td class=\"Table__TD Table__TD\">0</td><td class=\"Table__TD Table__TD\">0</td><td class=\"Table__TD Table__TD\">-11</td><td class=\"Table__TD Table__TD\">5</td></tr>\n",
      "\n",
      "\n",
      "<tr class=\"Table__TR Table__TR--sm Table__even\" data-idx=\"14\"><td class=\"Table__TD\"><div class=\"flex\"><a class=\"AnchorLink truncate db external Boxscore__AthleteName\" data-player-uid=\"s:40~l:46~a:4278529\" href=\"https://www.espn.com/nba/player/_/id/4278529/liangelo-ball\" tabindex=\"0\">Li. Ball</a><span class=\"playerPosition pl2\"> <!-- -->G</span></div></td></tr>\n",
      "<tr class=\"Table__TR Table__TR--sm Table__even\" data-idx=\"14\"><td class=\"Table__TD Table__TD\">6</td><td class=\"Table__TD Table__TD\">0-1</td><td class=\"Table__TD Table__TD\">0-1</td><td class=\"Table__TD Table__TD\">1-2</td><td class=\"Table__TD Table__TD\">0</td><td class=\"Table__TD Table__TD\">0</td><td class=\"Table__TD Table__TD\">0</td><td class=\"Table__TD Table__TD\">1</td><td class=\"Table__TD Table__TD\">0</td><td class=\"Table__TD Table__TD\">0</td><td class=\"Table__TD Table__TD\">0</td><td class=\"Table__TD Table__TD\">0</td><td class=\"Table__TD Table__TD\">-10</td><td class=\"Table__TD Table__TD\">1</td></tr>\n",
      "\n",
      "\n",
      "<tr class=\"Table__TR Table__TR--sm Table__even\" data-idx=\"15\"><td class=\"Table__TD\"><div class=\"flex\"><a class=\"AnchorLink truncate db external Boxscore__AthleteName\" data-player-uid=\"s:40~l:46~a:4576086\" href=\"https://www.espn.com/nba/player/_/id/4576086/bryce-mcgowens\" tabindex=\"0\">B. McGowens</a><span class=\"playerPosition pl2\"> <!-- -->G</span></div></td></tr>\n",
      "<tr class=\"Table__TR Table__TR--sm Table__even\" data-idx=\"15\"><td class=\"Table__TD Table__TD\">11</td><td class=\"Table__TD Table__TD\">2-6</td><td class=\"Table__TD Table__TD\">1-4</td><td class=\"Table__TD Table__TD\">4-7</td><td class=\"Table__TD Table__TD\">1</td><td class=\"Table__TD Table__TD\">0</td><td class=\"Table__TD Table__TD\">1</td><td class=\"Table__TD Table__TD\">0</td><td class=\"Table__TD Table__TD\">1</td><td class=\"Table__TD Table__TD\">1</td><td class=\"Table__TD Table__TD\">1</td><td class=\"Table__TD Table__TD\">0</td><td class=\"Table__TD Table__TD\">-12</td><td class=\"Table__TD Table__TD\">9</td></tr>\n",
      "\n",
      "\n",
      "<tr class=\"Table__TR Table__TR--sm Table__even\" data-idx=\"16\"><td class=\"Table__TD\"><div class=\"flex\"><a class=\"AnchorLink truncate db external Boxscore__AthleteName\" data-player-uid=\"s:40~l:46~a:4278231\" href=\"https://www.espn.com/nba/player/_/id/4278231/isaiah-whaley\" tabindex=\"0\">I. Whaley</a><span class=\"playerPosition pl2\"> <!-- -->F</span></div></td></tr>\n",
      "<tr class=\"Table__TR Table__TR--sm Table__even\" data-idx=\"16\"><td class=\"tc td Table__TD\" colspan=\"15\">DNP-COACH'S DECISION</td></tr>\n",
      "\n",
      "\n",
      "<tr class=\"Table__TR Table__TR--sm Table__even\" data-idx=\"17\"><td class=\"Table__TD\"><div class=\"flex\"><a class=\"AnchorLink truncate db external Boxscore__AthleteName\" data-player-uid=\"s:40~l:46~a:4279008\" href=\"https://www.espn.com/nba/player/_/id/4279008/anthony-duruji\" tabindex=\"0\">A. Duruji</a><span class=\"playerPosition pl2\"> <!-- -->F</span></div></td></tr>\n",
      "<tr class=\"Table__TR Table__TR--sm Table__even\" data-idx=\"17\"><td class=\"tc td Table__TD\" colspan=\"15\">DNP-COACH'S DECISION</td></tr>\n",
      "\n",
      "\n",
      "<tr class=\"Table__TR Table__TR--sm Table__even\" data-idx=\"18\"><td class=\"Table__TD\"><div class=\"flex\"><a class=\"AnchorLink truncate db external Boxscore__AthleteName\" data-player-uid=\"s:40~l:46~a:4249\" href=\"https://www.espn.com/nba/player/_/id/4249/gordon-hayward\" tabindex=\"0\">G. Hayward</a><span class=\"playerPosition pl2\"> <!-- -->SF</span></div></td></tr>\n",
      "<tr class=\"Table__TR Table__TR--sm Table__even\" data-idx=\"18\"><td class=\"tc td Table__TD\" colspan=\"15\">DNP-LEFT KNEE CONTUSION</td></tr>\n",
      "\n",
      "\n",
      "<tr class=\"Table__TR Table__TR--sm Table__even\" data-idx=\"19\"><td class=\"Table__TD\"><div class=\"flex\"><a class=\"AnchorLink truncate db external Boxscore__AthleteName\" data-player-uid=\"s:40~l:46~a:3138161\" href=\"https://www.espn.com/nba/player/_/id/3138161/cody-martin\" tabindex=\"0\">C. Martin</a><span class=\"playerPosition pl2\"> <!-- -->SF</span></div></td></tr>\n",
      "<tr class=\"Table__TR Table__TR--sm Table__even\" data-idx=\"19\"><td class=\"tc td Table__TD\" colspan=\"15\">DNP-LEFT KNEE INJURY</td></tr>\n",
      "\n",
      "\n",
      "<tr class=\"Table__TR Table__TR--sm Table__even\" data-idx=\"20\"><td class=\"Table__TD\"><div class=\"flex\"><a class=\"AnchorLink truncate db external Boxscore__AthleteName\" data-player-uid=\"s:40~l:46~a:4065697\" href=\"https://www.espn.com/nba/player/_/id/4065697/dennis-smith-jr\" tabindex=\"0\">D. Smith Jr.</a><span class=\"playerPosition pl2\"> <!-- -->PG</span></div></td></tr>\n",
      "<tr class=\"Table__TR Table__TR--sm Table__even\" data-idx=\"20\"><td class=\"tc td Table__TD\" colspan=\"15\">DNP-PERSONAL</td></tr>\n",
      "\n",
      "\n",
      "<tr class=\"Table__TR Table__TR--sm Table__even\" data-idx=\"21\"><td class=\"Table__TD\"><div class=\"flex\"><a class=\"AnchorLink truncate db external Boxscore__AthleteName\" data-player-uid=\"s:40~l:46~a:4397570\" href=\"https://www.espn.com/nba/player/_/id/4397570/jaylen-sims\" tabindex=\"0\">J. Sims</a><span class=\"playerPosition pl2\"> <!-- -->G</span></div></td></tr>\n",
      "<tr class=\"Table__TR Table__TR--sm Table__even\" data-idx=\"21\"><td class=\"tc td Table__TD\" colspan=\"15\">DNP-COACH'S DECISION</td></tr>\n",
      "\n",
      "\n",
      "<tr class=\"Table__TR Table__TR--sm Table__even\" data-idx=\"22\"><td class=\"Table__customHeader Table__TD\"><div class=\"Table__customHeader\">team</div></td></tr>\n",
      "<tr class=\"Table__TR Table__TR--sm Table__even\" data-idx=\"22\"><td class=\"Table__customHeader Table__TD\"><div class=\"Table__customHeader\"></div></td><td class=\"Table__customHeader Table__TD\"><div class=\"Table__customHeader\">33-96</div></td><td class=\"Table__customHeader Table__TD\"><div class=\"Table__customHeader\">9-43</div></td><td class=\"Table__customHeader Table__TD\"><div class=\"Table__customHeader\">22-36</div></td><td class=\"Table__customHeader Table__TD\"><div class=\"Table__customHeader\">16</div></td><td class=\"Table__customHeader Table__TD\"><div class=\"Table__customHeader\">33</div></td><td class=\"Table__customHeader Table__TD\"><div class=\"Table__customHeader\">49</div></td><td class=\"Table__customHeader Table__TD\"><div class=\"Table__customHeader\">20</div></td><td class=\"Table__customHeader Table__TD\"><div class=\"Table__customHeader\">7</div></td><td class=\"Table__customHeader Table__TD\"><div class=\"Table__customHeader\">4</div></td><td class=\"Table__customHeader Table__TD\"><div class=\"Table__customHeader\">17</div></td><td class=\"Table__customHeader Table__TD\"><div class=\"Table__customHeader\">26</div></td><td class=\"Table__customHeader Table__TD\"><div class=\"Table__customHeader\"></div></td><td class=\"Table__customHeader Table__TD\"><div class=\"Table__customHeader\">97</div></td></tr>\n",
      "\n",
      "\n",
      "<tr class=\"Table__TR Table__TR--sm Table__even\" data-idx=\"23\"><td class=\"Table__customHeader Table__TD\"><div class=\"Table__customHeader\"></div></td></tr>\n",
      "<tr class=\"Table__TR Table__TR--sm Table__even\" data-idx=\"23\"><td class=\"Table__customHeader Table__TD\"><div class=\"Table__customHeader\"></div></td><td class=\"Table__customHeader Table__TD\"><div class=\"Table__customHeader\">34.4%</div></td><td class=\"Table__customHeader Table__TD\"><div class=\"Table__customHeader\">20.9%</div></td><td class=\"Table__customHeader Table__TD\"><div class=\"Table__customHeader\">61.1%</div></td><td class=\"Table__customHeader Table__TD\"><div class=\"Table__customHeader\"></div></td><td class=\"Table__customHeader Table__TD\"><div class=\"Table__customHeader\"></div></td><td class=\"Table__customHeader Table__TD\"><div class=\"Table__customHeader\"></div></td><td class=\"Table__customHeader Table__TD\"><div class=\"Table__customHeader\"></div></td><td class=\"Table__customHeader Table__TD\"><div class=\"Table__customHeader\"></div></td><td class=\"Table__customHeader Table__TD\"><div class=\"Table__customHeader\"></div></td><td class=\"Table__customHeader Table__TD\"><div class=\"Table__customHeader\"></div></td><td class=\"Table__customHeader Table__TD\"><div class=\"Table__customHeader\"></div></td><td class=\"Table__customHeader Table__TD\"><div class=\"Table__customHeader\"></div></td><td class=\"Table__customHeader Table__TD\"><div class=\"Table__customHeader\"></div></td></tr>\n",
      "\n",
      "\n",
      "24\n"
     ]
    }
   ],
   "source": [
    "for team_tab in teams_tab:\n",
    "    team_name = team_tab.find(\"div\", class_=\"BoxscoreItem__TeamName h5\").text\n",
    "    print(team_name)\n",
    "    \n",
    "    tab = team_tab.find(\"div\", class_=\"ResponsiveTable ResponsiveTable--fixed-left Boxscore flex flex-column\").find(\"div\", class_=\"flex\")\n",
    "    #print(tab)\n",
    "    \n",
    "    players = tab.find(\"table\", class_=\"Table Table--align-right Table--fixed Table--fixed-left\").find(\"tbody\", class_=\"Table__TBODY\").find_all(\"tr\", class_=\"Table__TR Table__TR--sm Table__even\") # First columns (n,1)\n",
    "    print(len(players))\n",
    "    \n",
    "    datas = tab.find(\"div\", class_=\"Table__ScrollerWrapper relative overflow-hidden\").find(\"div\", class_=\"Table__Scroller\").find(\"table\", class_=\"Table Table--align-right\").find(\"tbody\", class_=\"Table__TBODY\").find_all(\"tr\", class_=\"Table__TR Table__TR--sm Table__even\")\n",
    "    for player, data in zip(players, datas):\n",
    "        print(player)\n",
    "        print(data)\n",
    "        print(\"\\n\")\n",
    "    print(len(datas))\n",
    "    \n",
    "    \n"
   ]
  },
  {
   "cell_type": "code",
   "execution_count": null,
   "id": "36e07637",
   "metadata": {},
   "outputs": [],
   "source": [
    "for team_tab in teams_tab:\n",
    "    team_name = team_tab.find(\"div\", class_=\"BoxscoreItem__TeamName h5\").text\n",
    "    print(team_name)\n",
    "    \n",
    "    tab = team_tab.find(\"div\", class_=\"ResponsiveTable ResponsiveTable--fixed-left Boxscore flex flex-column\")\n",
    "    .find(\"div\", class_=\"flex\")\n",
    "    print(tab)\n",
    "    \n",
    "    columns1 = tab.find(\"tbody\", class_=\"Table__TBODY\")\n",
    "    titles = [elt.text for elt in columns1.find_all(\"div\", class_=\"Table__customHeader\")]\n",
    "    \n",
    "    \n",
    "    players = columns1.find_all(\"tr\", class_=\"Table__TR Table__TR--sm Table__even\") # First columns (n,1)\n",
    "    datas = None # Tabs separated by lines (n, 14)\n",
    "    \n",
    "    print(len(players))  "
   ]
  },
  {
   "cell_type": "code",
   "execution_count": 16,
   "id": "9dcab467",
   "metadata": {
    "ExecuteTime": {
     "end_time": "2022-11-07T05:58:08.881570Z",
     "start_time": "2022-11-07T05:58:08.874426Z"
    }
   },
   "outputs": [
    {
     "name": "stdout",
     "output_type": "stream",
     "text": [
      "Indiana Pacers\n",
      "22\n",
      "Charlotte Hornets\n",
      "24\n"
     ]
    }
   ],
   "source": [
    "for wrapper in wrappers:\n",
    "    team_name = wrapper.find(\"div\", class_=\"BoxscoreItem__TeamName h5\").text\n",
    "    print(team_name)\n",
    "    tab = wrapper.find(\"div\", class_=\"ResponsiveTable ResponsiveTable--fixed-left Boxscore flex flex-column\")\n",
    "    columns1 = tab.find(\"tbody\", class_=\"Table__TBODY\")\n",
    "    titles = [elt.text for elt in columns1.find_all(\"div\", class_=\"Table__customHeader\")]\n",
    "    players = columns1.find_all(\"tr\", class_=\"Table__TR Table__TR--sm Table__even\")\n",
    "    print(len(players))            \n"
   ]
  },
  {
   "cell_type": "code",
   "execution_count": 6,
   "id": "2a2a44ff",
   "metadata": {
    "ExecuteTime": {
     "end_time": "2022-11-07T05:43:20.226284Z",
     "start_time": "2022-11-07T05:43:20.216901Z"
    }
   },
   "outputs": [],
   "source": [
    "def is_playing_home(li):\n",
    "    class_name = li['class'][-2]\n",
    "    if class_name.split('-')[-1] == 'home':\n",
    "        return True\n",
    "    elif class_name.split('-')[-1] == 'away':\n",
    "        return False\n",
    "    else:\n",
    "        raise ValueError(\"Don't know if the team was playing home!\")\n",
    "\n",
    "def is_winner(li):\n",
    "    class_name = li['class'][-1]\n",
    "    if class_name.split('-')[-1] == 'winner':\n",
    "        return True\n",
    "    elif class_name.split('-')[-1] == 'loser':\n",
    "        return False\n",
    "    else:\n",
    "        raise ValueError(\"Don't know if the team won!\")"
   ]
  },
  {
   "cell_type": "code",
   "execution_count": 8,
   "id": "33a5851d",
   "metadata": {
    "ExecuteTime": {
     "end_time": "2022-11-07T05:44:06.204277Z",
     "start_time": "2022-11-07T05:44:06.172561Z"
    }
   },
   "outputs": [
    {
     "name": "stdout",
     "output_type": "stream",
     "text": [
      "<div class=\"Boxscore flex flex-column\"><div class=\"Boxscore__Title flex items-center pt3 pb3 brdr-clr-gray-08\"><img alt=\"Indiana Pacers\" class=\"Image Logo pr3 Logo__sm\" data-mptype=\"image\" src=\"data:image/gif;base64,R0lGODlhAQABAIAAAAAAAP///yH5BAEAAAAALAAAAAABAAEAAAIBRAA7\"/><div class=\"BoxscoreItem__TeamName h5\">Indiana Pacers</div></div><div class=\"ResponsiveTable ResponsiveTable--fixed-left Boxscore flex flex-column\"><div class=\"flex\"><table class=\"Table Table--align-right Table--fixed Table--fixed-left\" style=\"border-collapse:collapse;border-spacing:0\"><colgroup class=\"Table__Colgroup\"><col class=\"Table__Column\"/></colgroup><thead class=\"Table__header-group Table__THEAD\"></thead><tbody class=\"Table__TBODY\"><tr class=\"Table__TR Table__TR--sm Table__even\" data-idx=\"0\"><td class=\"Table__customHeader Table__TD\"><div class=\"Table__customHeader\">starters</div></td></tr><tr class=\"Table__TR Table__TR--sm Table__even\" data-idx=\"1\"><td class=\"Table__TD\"><div class=\"flex\"><a class=\"AnchorLink truncate db external Boxscore__AthleteName\" data-player-uid=\"s:40~l:46~a:4397189\" href=\"https://www.espn.com/nba/player/_/id/4397189/jalen-smith\" tabindex=\"0\">J. Smith</a><span class=\"playerPosition pl2\"> <!-- -->PF</span></div></td></tr><tr class=\"Table__TR Table__TR--sm Table__even\" data-idx=\"2\"><td class=\"Table__TD\"><div class=\"flex\"><a class=\"AnchorLink truncate db external Boxscore__AthleteName\" data-player-uid=\"s:40~l:46~a:3133628\" href=\"https://www.espn.com/nba/player/_/id/3133628/myles-turner\" tabindex=\"0\">M. Turner</a><span class=\"playerPosition pl2\"> <!-- -->C</span></div></td></tr><tr class=\"Table__TR Table__TR--sm Table__even\" data-idx=\"3\"><td class=\"Table__TD\"><div class=\"flex\"><a class=\"AnchorLink truncate db external Boxscore__AthleteName\" data-player-uid=\"s:40~l:46~a:4396993\" href=\"https://www.espn.com/nba/player/_/id/4396993/tyrese-haliburton\" tabindex=\"0\">T. Haliburton</a><span class=\"playerPosition pl2\"> <!-- -->PG</span></div></td></tr><tr class=\"Table__TR Table__TR--sm Table__even\" data-idx=\"4\"><td class=\"Table__TD\"><div class=\"flex\"><a class=\"AnchorLink truncate db external Boxscore__AthleteName\" data-player-uid=\"s:40~l:46~a:2990984\" href=\"https://www.espn.com/nba/player/_/id/2990984/buddy-hield\" tabindex=\"0\">B. Hield</a><span class=\"playerPosition pl2\"> <!-- -->SG</span></div></td></tr><tr class=\"Table__TR Table__TR--sm Table__even\" data-idx=\"5\"><td class=\"Table__TD\"><div class=\"flex\"><a class=\"AnchorLink truncate db external Boxscore__AthleteName\" data-player-uid=\"s:40~l:46~a:4592402\" href=\"https://www.espn.com/nba/player/_/id/4592402/chris-duarte\" tabindex=\"0\">C. Duarte</a><span class=\"playerPosition pl2\"> <!-- -->SG</span></div></td></tr><tr class=\"Table__TR Table__TR--sm Table__even\" data-idx=\"6\"><td class=\"Table__customHeader Table__TD\"><div class=\"Table__customHeader\">bench</div></td></tr><tr class=\"Table__TR Table__TR--sm Table__even\" data-idx=\"7\"><td class=\"Table__TD\"><div class=\"flex\"><a class=\"AnchorLink truncate db external Boxscore__AthleteName\" data-player-uid=\"s:40~l:46~a:3999\" href=\"https://www.espn.com/nba/player/_/id/3999/james-johnson\" tabindex=\"0\">J. Johnson</a><span class=\"playerPosition pl2\"> <!-- -->PF</span></div></td></tr><tr class=\"Table__TR Table__TR--sm Table__even\" data-idx=\"8\"><td class=\"Table__TD\"><div class=\"flex\"><a class=\"AnchorLink truncate db external Boxscore__AthleteName\" data-player-uid=\"s:40~l:46~a:4423883\" href=\"https://www.espn.com/nba/player/_/id/4423883/deividas-sirvydis\" tabindex=\"0\">D. Sirvydis</a><span class=\"playerPosition pl2\"> <!-- -->F</span></div></td></tr><tr class=\"Table__TR Table__TR--sm Table__even\" data-idx=\"9\"><td class=\"Table__TD\"><div class=\"flex\"><a class=\"AnchorLink truncate db external Boxscore__AthleteName\" data-player-uid=\"s:40~l:46~a:4278031\" href=\"https://www.espn.com/nba/player/_/id/4278031/oshae-brissett\" tabindex=\"0\">O. Brissett</a><span class=\"playerPosition pl2\"> <!-- -->SF</span></div></td></tr><tr class=\"Table__TR Table__TR--sm Table__even\" data-idx=\"10\"><td class=\"Table__TD\"><div class=\"flex\"><a class=\"AnchorLink truncate db external Boxscore__AthleteName\" data-player-uid=\"s:40~l:46~a:4279815\" href=\"https://www.espn.com/nba/player/_/id/4279815/terry-taylor\" tabindex=\"0\">T. Taylor</a><span class=\"playerPosition pl2\"> <!-- -->SF</span></div></td></tr><tr class=\"Table__TR Table__TR--sm Table__even\" data-idx=\"11\"><td class=\"Table__TD\"><div class=\"flex\"><a class=\"AnchorLink truncate db external Boxscore__AthleteName\" data-player-uid=\"s:40~l:46~a:4396909\" href=\"https://www.espn.com/nba/player/_/id/4396909/aaron-nesmith\" tabindex=\"0\">A. Nesmith</a><span class=\"playerPosition pl2\"> <!-- -->SF</span></div></td></tr><tr class=\"Table__TR Table__TR--sm Table__even\" data-idx=\"12\"><td class=\"Table__TD\"><div class=\"flex\"><a class=\"AnchorLink truncate db external Boxscore__AthleteName\" data-player-uid=\"s:40~l:46~a:4432170\" href=\"https://www.espn.com/nba/player/_/id/4432170/isaiah-jackson\" tabindex=\"0\">I. Jackson</a><span class=\"playerPosition pl2\"> <!-- -->SF</span></div></td></tr><tr class=\"Table__TR Table__TR--sm Table__even\" data-idx=\"13\"><td class=\"Table__TD\"><div class=\"flex\"><a class=\"AnchorLink truncate db external Boxscore__AthleteName\" data-player-uid=\"s:40~l:46~a:2530530\" href=\"https://www.espn.com/nba/player/_/id/2530530/tj-mcconnell\" tabindex=\"0\">T.J. McConnell</a><span class=\"playerPosition pl2\"> <!-- -->PG</span></div></td></tr><tr class=\"Table__TR Table__TR--sm Table__even\" data-idx=\"14\"><td class=\"Table__TD\"><div class=\"flex\"><a class=\"AnchorLink truncate db external Boxscore__AthleteName\" data-player-uid=\"s:40~l:46~a:4395712\" href=\"https://www.espn.com/nba/player/_/id/4395712/andrew-nembhard\" tabindex=\"0\">A. Nembhard</a><span class=\"playerPosition pl2\"> <!-- -->PG</span></div></td></tr><tr class=\"Table__TR Table__TR--sm Table__even\" data-idx=\"15\"><td class=\"Table__TD\"><div class=\"flex\"><a class=\"AnchorLink truncate db external Boxscore__AthleteName\" data-player-uid=\"s:40~l:46~a:2530572\" href=\"https://www.espn.com/nba/player/_/id/2530572/langston-galloway\" tabindex=\"0\">L. Galloway</a><span class=\"playerPosition pl2\"> <!-- -->SG</span></div></td></tr><tr class=\"Table__TR Table__TR--sm Table__even\" data-idx=\"16\"><td class=\"Table__TD\"><div class=\"flex\"><a class=\"AnchorLink truncate db external Boxscore__AthleteName\" data-player-uid=\"s:40~l:46~a:4433254\" href=\"https://www.espn.com/nba/player/_/id/4433254/kendall-brown\" tabindex=\"0\">K. Brown</a><span class=\"playerPosition pl2\"> <!-- -->SG</span></div></td></tr><tr class=\"Table__TR Table__TR--sm Table__even\" data-idx=\"17\"><td class=\"Table__TD\"><div class=\"flex\"><a class=\"AnchorLink truncate db external Boxscore__AthleteName\" data-player-uid=\"s:40~l:46~a:4683634\" href=\"https://www.espn.com/nba/player/_/id/4683634/bennedict-mathurin\" tabindex=\"0\">B. Mathurin</a><span class=\"playerPosition pl2\"> <!-- -->SG</span></div></td></tr><tr class=\"Table__TR Table__TR--sm Table__even\" data-idx=\"18\"><td class=\"Table__TD\"><div class=\"flex\"><a class=\"AnchorLink truncate db external Boxscore__AthleteName\" data-player-uid=\"s:40~l:46~a:2451037\" href=\"https://www.espn.com/nba/player/_/id/2451037/daniel-theis\" tabindex=\"0\">D. Theis</a><span class=\"playerPosition pl2\"> <!-- -->C</span></div></td></tr><tr class=\"Table__TR Table__TR--sm Table__even\" data-idx=\"19\"><td class=\"Table__TD\"><div class=\"flex\"><a class=\"AnchorLink truncate db external Boxscore__AthleteName\" data-player-uid=\"s:40~l:46~a:4348700\" href=\"https://www.espn.com/nba/player/_/id/4348700/goga-bitadze\" tabindex=\"0\">G. Bitadze</a><span class=\"playerPosition pl2\"> <!-- -->C</span></div></td></tr><tr class=\"Table__TR Table__TR--sm Table__even\" data-idx=\"20\"><td class=\"Table__customHeader Table__TD\"><div class=\"Table__customHeader\">team</div></td></tr><tr class=\"Table__TR Table__TR--sm Table__even\" data-idx=\"21\"><td class=\"Table__customHeader Table__TD\"><div class=\"Table__customHeader\"></div></td></tr></tbody></table><div class=\"Table__ScrollerWrapper relative overflow-hidden\"><div class=\"Table__Shadow--left\" style=\"opacity:0\"></div><div class=\"Table__Scroller\"><table class=\"Table Table--align-right\" style=\"border-collapse:collapse;border-spacing:0\"><colgroup class=\"Table__Colgroup\"><col class=\"Table__Column\"/><col class=\"Table__Column\"/><col class=\"Table__Column\"/><col class=\"Table__Column\"/><col class=\"Table__Column\"/><col class=\"Table__Column\"/><col class=\"Table__Column\"/><col class=\"Table__Column\"/><col class=\"Table__Column\"/><col class=\"Table__Column\"/><col class=\"Table__Column\"/><col class=\"Table__Column\"/><col class=\"Table__Column\"/><col class=\"Table__Column\"/></colgroup><thead class=\"Table__header-group Table__THEAD\"></thead><tbody class=\"Table__TBODY\"><tr class=\"Table__TR Table__TR--sm Table__even\" data-idx=\"0\"><td class=\"Table__customHeader Table__TD\"><div class=\"Table__customHeader\">MIN</div></td><td class=\"Table__customHeader Table__TD\"><div class=\"Table__customHeader\">FG</div></td><td class=\"Table__customHeader Table__TD\"><div class=\"Table__customHeader\">3PT</div></td><td class=\"Table__customHeader Table__TD\"><div class=\"Table__customHeader\">FT</div></td><td class=\"Table__customHeader Table__TD\"><div class=\"Table__customHeader\">OREB</div></td><td class=\"Table__customHeader Table__TD\"><div class=\"Table__customHeader\">DREB</div></td><td class=\"Table__customHeader Table__TD\"><div class=\"Table__customHeader\">REB</div></td><td class=\"Table__customHeader Table__TD\"><div class=\"Table__customHeader\">AST</div></td><td class=\"Table__customHeader Table__TD\"><div class=\"Table__customHeader\">STL</div></td><td class=\"Table__customHeader Table__TD\"><div class=\"Table__customHeader\">BLK</div></td><td class=\"Table__customHeader Table__TD\"><div class=\"Table__customHeader\">TO</div></td><td class=\"Table__customHeader Table__TD\"><div class=\"Table__customHeader\">PF</div></td><td class=\"Table__customHeader Table__TD\"><div class=\"Table__customHeader\">+/-</div></td><td class=\"Table__customHeader Table__TD\"><div class=\"Table__customHeader\">PTS</div></td></tr><tr class=\"Table__TR Table__TR--sm Table__even\" data-idx=\"1\"><td class=\"Table__TD Table__TD\">22</td><td class=\"Table__TD Table__TD\">4-11</td><td class=\"Table__TD Table__TD\">0-2</td><td class=\"Table__TD Table__TD\">1-1</td><td class=\"Table__TD Table__TD\">1</td><td class=\"Table__TD Table__TD\">9</td><td class=\"Table__TD Table__TD\">10</td><td class=\"Table__TD Table__TD\">0</td><td class=\"Table__TD Table__TD\">0</td><td class=\"Table__TD Table__TD\">0</td><td class=\"Table__TD Table__TD\">0</td><td class=\"Table__TD Table__TD\">0</td><td class=\"Table__TD Table__TD\">-3</td><td class=\"Table__TD Table__TD\">9</td></tr><tr class=\"Table__TR Table__TR--sm Table__even\" data-idx=\"2\"><td class=\"Table__TD Table__TD\">18</td><td class=\"Table__TD Table__TD\">3-8</td><td class=\"Table__TD Table__TD\">0-1</td><td class=\"Table__TD Table__TD\">6-6</td><td class=\"Table__TD Table__TD\">0</td><td class=\"Table__TD Table__TD\">3</td><td class=\"Table__TD Table__TD\">3</td><td class=\"Table__TD Table__TD\">3</td><td class=\"Table__TD Table__TD\">0</td><td class=\"Table__TD Table__TD\">2</td><td class=\"Table__TD Table__TD\">3</td><td class=\"Table__TD Table__TD\">3</td><td class=\"Table__TD Table__TD\">+6</td><td class=\"Table__TD Table__TD\">12</td></tr><tr class=\"Table__TR Table__TR--sm Table__even\" data-idx=\"3\"><td class=\"Table__TD Table__TD\">22</td><td class=\"Table__TD Table__TD\">2-8</td><td class=\"Table__TD Table__TD\">1-5</td><td class=\"Table__TD Table__TD\">0-0</td><td class=\"Table__TD Table__TD\">0</td><td class=\"Table__TD Table__TD\">2</td><td class=\"Table__TD Table__TD\">2</td><td class=\"Table__TD Table__TD\">6</td><td class=\"Table__TD Table__TD\">0</td><td class=\"Table__TD Table__TD\">0</td><td class=\"Table__TD Table__TD\">3</td><td class=\"Table__TD Table__TD\">1</td><td class=\"Table__TD Table__TD\">-3</td><td class=\"Table__TD Table__TD\">5</td></tr><tr class=\"Table__TR Table__TR--sm Table__even\" data-idx=\"4\"><td class=\"Table__TD Table__TD\">20</td><td class=\"Table__TD Table__TD\">3-8</td><td class=\"Table__TD Table__TD\">1-4</td><td class=\"Table__TD Table__TD\">0-0</td><td class=\"Table__TD Table__TD\">0</td><td class=\"Table__TD Table__TD\">5</td><td class=\"Table__TD Table__TD\">5</td><td class=\"Table__TD Table__TD\">2</td><td class=\"Table__TD Table__TD\">3</td><td class=\"Table__TD Table__TD\">0</td><td class=\"Table__TD Table__TD\">1</td><td class=\"Table__TD Table__TD\">2</td><td class=\"Table__TD Table__TD\">-2</td><td class=\"Table__TD Table__TD\">7</td></tr><tr class=\"Table__TR Table__TR--sm Table__even\" data-idx=\"5\"><td class=\"Table__TD Table__TD\">22</td><td class=\"Table__TD Table__TD\">4-7</td><td class=\"Table__TD Table__TD\">0-2</td><td class=\"Table__TD Table__TD\">4-4</td><td class=\"Table__TD Table__TD\">0</td><td class=\"Table__TD Table__TD\">6</td><td class=\"Table__TD Table__TD\">6</td><td class=\"Table__TD Table__TD\">2</td><td class=\"Table__TD Table__TD\">0</td><td class=\"Table__TD Table__TD\">0</td><td class=\"Table__TD Table__TD\">1</td><td class=\"Table__TD Table__TD\">4</td><td class=\"Table__TD Table__TD\">-3</td><td class=\"Table__TD Table__TD\">12</td></tr><tr class=\"Table__TR Table__TR--sm Table__even\" data-idx=\"6\"><td class=\"Table__customHeader Table__TD\"><div class=\"Table__customHeader\">MIN</div></td><td class=\"Table__customHeader Table__TD\"><div class=\"Table__customHeader\">FG</div></td><td class=\"Table__customHeader Table__TD\"><div class=\"Table__customHeader\">3PT</div></td><td class=\"Table__customHeader Table__TD\"><div class=\"Table__customHeader\">FT</div></td><td class=\"Table__customHeader Table__TD\"><div class=\"Table__customHeader\">OREB</div></td><td class=\"Table__customHeader Table__TD\"><div class=\"Table__customHeader\">DREB</div></td><td class=\"Table__customHeader Table__TD\"><div class=\"Table__customHeader\">REB</div></td><td class=\"Table__customHeader Table__TD\"><div class=\"Table__customHeader\">AST</div></td><td class=\"Table__customHeader Table__TD\"><div class=\"Table__customHeader\">STL</div></td><td class=\"Table__customHeader Table__TD\"><div class=\"Table__customHeader\">BLK</div></td><td class=\"Table__customHeader Table__TD\"><div class=\"Table__customHeader\">TO</div></td><td class=\"Table__customHeader Table__TD\"><div class=\"Table__customHeader\">PF</div></td><td class=\"Table__customHeader Table__TD\"><div class=\"Table__customHeader\">+/-</div></td><td class=\"Table__customHeader Table__TD\"><div class=\"Table__customHeader\">PTS</div></td></tr><tr class=\"Table__TR Table__TR--sm Table__even\" data-idx=\"7\"><td class=\"Table__TD Table__TD\">13</td><td class=\"Table__TD Table__TD\">2-3</td><td class=\"Table__TD Table__TD\">0-1</td><td class=\"Table__TD Table__TD\">0-0</td><td class=\"Table__TD Table__TD\">1</td><td class=\"Table__TD Table__TD\">1</td><td class=\"Table__TD Table__TD\">2</td><td class=\"Table__TD Table__TD\">1</td><td class=\"Table__TD Table__TD\">1</td><td class=\"Table__TD Table__TD\">0</td><td class=\"Table__TD Table__TD\">2</td><td class=\"Table__TD Table__TD\">4</td><td class=\"Table__TD Table__TD\">+11</td><td class=\"Table__TD Table__TD\">4</td></tr><tr class=\"Table__TR Table__TR--sm Table__even\" data-idx=\"8\"><td class=\"Table__TD Table__TD\">3</td><td class=\"Table__TD Table__TD\">0-0</td><td class=\"Table__TD Table__TD\">0-0</td><td class=\"Table__TD Table__TD\">0-0</td><td class=\"Table__TD Table__TD\">0</td><td class=\"Table__TD Table__TD\">0</td><td class=\"Table__TD Table__TD\">0</td><td class=\"Table__TD Table__TD\">0</td><td class=\"Table__TD Table__TD\">0</td><td class=\"Table__TD Table__TD\">0</td><td class=\"Table__TD Table__TD\">1</td><td class=\"Table__TD Table__TD\">2</td><td class=\"Table__TD Table__TD\">+8</td><td class=\"Table__TD Table__TD\">0</td></tr><tr class=\"Table__TR Table__TR--sm Table__even\" data-idx=\"9\"><td class=\"Table__TD Table__TD\">12</td><td class=\"Table__TD Table__TD\">2-3</td><td class=\"Table__TD Table__TD\">1-2</td><td class=\"Table__TD Table__TD\">1-1</td><td class=\"Table__TD Table__TD\">0</td><td class=\"Table__TD Table__TD\">3</td><td class=\"Table__TD Table__TD\">3</td><td class=\"Table__TD Table__TD\">0</td><td class=\"Table__TD Table__TD\">1</td><td class=\"Table__TD Table__TD\">1</td><td class=\"Table__TD Table__TD\">1</td><td class=\"Table__TD Table__TD\">2</td><td class=\"Table__TD Table__TD\">-2</td><td class=\"Table__TD Table__TD\">6</td></tr><tr class=\"Table__TR Table__TR--sm Table__even\" data-idx=\"10\"><td class=\"Table__TD Table__TD\">15</td><td class=\"Table__TD Table__TD\">2-3</td><td class=\"Table__TD Table__TD\">0-1</td><td class=\"Table__TD Table__TD\">0-0</td><td class=\"Table__TD Table__TD\">1</td><td class=\"Table__TD Table__TD\">1</td><td class=\"Table__TD Table__TD\">2</td><td class=\"Table__TD Table__TD\">0</td><td class=\"Table__TD Table__TD\">0</td><td class=\"Table__TD Table__TD\">0</td><td class=\"Table__TD Table__TD\">1</td><td class=\"Table__TD Table__TD\">1</td><td class=\"Table__TD Table__TD\">+33</td><td class=\"Table__TD Table__TD\">4</td></tr><tr class=\"Table__TR Table__TR--sm Table__even\" data-idx=\"11\"><td class=\"Table__TD Table__TD\">14</td><td class=\"Table__TD Table__TD\">4-8</td><td class=\"Table__TD Table__TD\">2-5</td><td class=\"Table__TD Table__TD\">6-6</td><td class=\"Table__TD Table__TD\">0</td><td class=\"Table__TD Table__TD\">4</td><td class=\"Table__TD Table__TD\">4</td><td class=\"Table__TD Table__TD\">0</td><td class=\"Table__TD Table__TD\">0</td><td class=\"Table__TD Table__TD\">0</td><td class=\"Table__TD Table__TD\">0</td><td class=\"Table__TD Table__TD\">1</td><td class=\"Table__TD Table__TD\">+30</td><td class=\"Table__TD Table__TD\">16</td></tr><tr class=\"Table__TR Table__TR--sm Table__even\" data-idx=\"12\"><td class=\"Table__TD Table__TD\">16</td><td class=\"Table__TD Table__TD\">5-8</td><td class=\"Table__TD Table__TD\">0-1</td><td class=\"Table__TD Table__TD\">3-4</td><td class=\"Table__TD Table__TD\">2</td><td class=\"Table__TD Table__TD\">4</td><td class=\"Table__TD Table__TD\">6</td><td class=\"Table__TD Table__TD\">1</td><td class=\"Table__TD Table__TD\">0</td><td class=\"Table__TD Table__TD\">4</td><td class=\"Table__TD Table__TD\">2</td><td class=\"Table__TD Table__TD\">4</td><td class=\"Table__TD Table__TD\">+5</td><td class=\"Table__TD Table__TD\">13</td></tr><tr class=\"Table__TR Table__TR--sm Table__even\" data-idx=\"13\"><td class=\"Table__TD Table__TD\">14</td><td class=\"Table__TD Table__TD\">3-5</td><td class=\"Table__TD Table__TD\">0-0</td><td class=\"Table__TD Table__TD\">0-0</td><td class=\"Table__TD Table__TD\">0</td><td class=\"Table__TD Table__TD\">4</td><td class=\"Table__TD Table__TD\">4</td><td class=\"Table__TD Table__TD\">6</td><td class=\"Table__TD Table__TD\">1</td><td class=\"Table__TD Table__TD\">1</td><td class=\"Table__TD Table__TD\">1</td><td class=\"Table__TD Table__TD\">2</td><td class=\"Table__TD Table__TD\">+30</td><td class=\"Table__TD Table__TD\">6</td></tr><tr class=\"Table__TR Table__TR--sm Table__even\" data-idx=\"14\"><td class=\"Table__TD Table__TD\">12</td><td class=\"Table__TD Table__TD\">4-8</td><td class=\"Table__TD Table__TD\">0-0</td><td class=\"Table__TD Table__TD\">0-0</td><td class=\"Table__TD Table__TD\">0</td><td class=\"Table__TD Table__TD\">2</td><td class=\"Table__TD Table__TD\">2</td><td class=\"Table__TD Table__TD\">3</td><td class=\"Table__TD Table__TD\">0</td><td class=\"Table__TD Table__TD\">0</td><td class=\"Table__TD Table__TD\">0</td><td class=\"Table__TD Table__TD\">0</td><td class=\"Table__TD Table__TD\">-2</td><td class=\"Table__TD Table__TD\">8</td></tr><tr class=\"Table__TR Table__TR--sm Table__even\" data-idx=\"15\"><td class=\"Table__TD Table__TD\">3</td><td class=\"Table__TD Table__TD\">1-1</td><td class=\"Table__TD Table__TD\">1-1</td><td class=\"Table__TD Table__TD\">0-0</td><td class=\"Table__TD Table__TD\">0</td><td class=\"Table__TD Table__TD\">1</td><td class=\"Table__TD Table__TD\">1</td><td class=\"Table__TD Table__TD\">0</td><td class=\"Table__TD Table__TD\">0</td><td class=\"Table__TD Table__TD\">0</td><td class=\"Table__TD Table__TD\">1</td><td class=\"Table__TD Table__TD\">1</td><td class=\"Table__TD Table__TD\">+8</td><td class=\"Table__TD Table__TD\">3</td></tr><tr class=\"Table__TR Table__TR--sm Table__even\" data-idx=\"16\"><td class=\"Table__TD Table__TD\">14</td><td class=\"Table__TD Table__TD\">1-2</td><td class=\"Table__TD Table__TD\">0-1</td><td class=\"Table__TD Table__TD\">0-0</td><td class=\"Table__TD Table__TD\">1</td><td class=\"Table__TD Table__TD\">1</td><td class=\"Table__TD Table__TD\">2</td><td class=\"Table__TD Table__TD\">2</td><td class=\"Table__TD Table__TD\">1</td><td class=\"Table__TD Table__TD\">0</td><td class=\"Table__TD Table__TD\">1</td><td class=\"Table__TD Table__TD\">1</td><td class=\"Table__TD Table__TD\">+6</td><td class=\"Table__TD Table__TD\">2</td></tr><tr class=\"Table__TR Table__TR--sm Table__even\" data-idx=\"17\"><td class=\"Table__TD Table__TD\">19</td><td class=\"Table__TD Table__TD\">5-10</td><td class=\"Table__TD Table__TD\">0-4</td><td class=\"Table__TD Table__TD\">5-5</td><td class=\"Table__TD Table__TD\">1</td><td class=\"Table__TD Table__TD\">0</td><td class=\"Table__TD Table__TD\">1</td><td class=\"Table__TD Table__TD\">1</td><td class=\"Table__TD Table__TD\">0</td><td class=\"Table__TD Table__TD\">0</td><td class=\"Table__TD Table__TD\">1</td><td class=\"Table__TD Table__TD\">2</td><td class=\"Table__TD Table__TD\">+3</td><td class=\"Table__TD Table__TD\">15</td></tr><tr class=\"Table__TR Table__TR--sm Table__even\" data-idx=\"18\"><td class=\"tc td Table__TD\" colspan=\"15\">DNP-COACH'S DECISION</td></tr><tr class=\"Table__TR Table__TR--sm Table__even\" data-idx=\"19\"><td class=\"tc td Table__TD\" colspan=\"15\">DNP-COACH'S DECISION</td></tr><tr class=\"Table__TR Table__TR--sm Table__even\" data-idx=\"20\"><td class=\"Table__customHeader Table__TD\"><div class=\"Table__customHeader\"></div></td><td class=\"Table__customHeader Table__TD\"><div class=\"Table__customHeader\">45-93</div></td><td class=\"Table__customHeader Table__TD\"><div class=\"Table__customHeader\">6-30</div></td><td class=\"Table__customHeader Table__TD\"><div class=\"Table__customHeader\">26-27</div></td><td class=\"Table__customHeader Table__TD\"><div class=\"Table__customHeader\">7</div></td><td class=\"Table__customHeader Table__TD\"><div class=\"Table__customHeader\">46</div></td><td class=\"Table__customHeader Table__TD\"><div class=\"Table__customHeader\">53</div></td><td class=\"Table__customHeader Table__TD\"><div class=\"Table__customHeader\">27</div></td><td class=\"Table__customHeader Table__TD\"><div class=\"Table__customHeader\">7</div></td><td class=\"Table__customHeader Table__TD\"><div class=\"Table__customHeader\">8</div></td><td class=\"Table__customHeader Table__TD\"><div class=\"Table__customHeader\">19</div></td><td class=\"Table__customHeader Table__TD\"><div class=\"Table__customHeader\">30</div></td><td class=\"Table__customHeader Table__TD\"><div class=\"Table__customHeader\"></div></td><td class=\"Table__customHeader Table__TD\"><div class=\"Table__customHeader\">122</div></td></tr><tr class=\"Table__TR Table__TR--sm Table__even\" data-idx=\"21\"><td class=\"Table__customHeader Table__TD\"><div class=\"Table__customHeader\"></div></td><td class=\"Table__customHeader Table__TD\"><div class=\"Table__customHeader\">48.4%</div></td><td class=\"Table__customHeader Table__TD\"><div class=\"Table__customHeader\">20.0%</div></td><td class=\"Table__customHeader Table__TD\"><div class=\"Table__customHeader\">96.3%</div></td><td class=\"Table__customHeader Table__TD\"><div class=\"Table__customHeader\"></div></td><td class=\"Table__customHeader Table__TD\"><div class=\"Table__customHeader\"></div></td><td class=\"Table__customHeader Table__TD\"><div class=\"Table__customHeader\"></div></td><td class=\"Table__customHeader Table__TD\"><div class=\"Table__customHeader\"></div></td><td class=\"Table__customHeader Table__TD\"><div class=\"Table__customHeader\"></div></td><td class=\"Table__customHeader Table__TD\"><div class=\"Table__customHeader\"></div></td><td class=\"Table__customHeader Table__TD\"><div class=\"Table__customHeader\"></div></td><td class=\"Table__customHeader Table__TD\"><div class=\"Table__customHeader\"></div></td><td class=\"Table__customHeader Table__TD\"><div class=\"Table__customHeader\"></div></td><td class=\"Table__customHeader Table__TD\"><div class=\"Table__customHeader\"></div></td></tr></tbody></table></div><div class=\"Table__Shadow--right\" style=\"opacity:0\"></div></div></div></div></div>\n",
      "None\n"
     ]
    },
    {
     "ename": "AttributeError",
     "evalue": "'NoneType' object has no attribute 'find_all'",
     "output_type": "error",
     "traceback": [
      "\u001b[0;31m---------------------------------------------------------------------------\u001b[0m",
      "\u001b[0;31mAttributeError\u001b[0m                            Traceback (most recent call last)",
      "Input \u001b[0;32mIn [8]\u001b[0m, in \u001b[0;36m<cell line: 1>\u001b[0;34m()\u001b[0m\n\u001b[1;32m      3\u001b[0m u \u001b[38;5;241m=\u001b[39m game\u001b[38;5;241m.\u001b[39mfind(\u001b[38;5;124m\"\u001b[39m\u001b[38;5;124mul\u001b[39m\u001b[38;5;124m\"\u001b[39m, class_\u001b[38;5;241m=\u001b[39m\u001b[38;5;124m\"\u001b[39m\u001b[38;5;124mScoreboardScoreCell__Competitors\u001b[39m\u001b[38;5;124m\"\u001b[39m)\n\u001b[1;32m      4\u001b[0m \u001b[38;5;28mprint\u001b[39m(u)\n\u001b[0;32m----> 5\u001b[0m lines \u001b[38;5;241m=\u001b[39m \u001b[43mu\u001b[49m\u001b[38;5;241;43m.\u001b[39;49m\u001b[43mfind_all\u001b[49m(\u001b[38;5;124m\"\u001b[39m\u001b[38;5;124mli\u001b[39m\u001b[38;5;124m\"\u001b[39m)\n\u001b[1;32m      6\u001b[0m \u001b[38;5;28;01mfor\u001b[39;00m line \u001b[38;5;129;01min\u001b[39;00m lines:\n\u001b[1;32m      7\u001b[0m     winner \u001b[38;5;241m=\u001b[39m is_winner(line)\n",
      "\u001b[0;31mAttributeError\u001b[0m: 'NoneType' object has no attribute 'find_all'"
     ]
    }
   ],
   "source": [
    "for game in wrappers:\n",
    "    print(game)\n",
    "    u = game.find(\"ul\", class_=\"ScoreboardScoreCell__Competitors\")\n",
    "    print(u)\n",
    "    lines = u.find_all(\"li\")\n",
    "    for line in lines:\n",
    "        winner = is_winner(line)\n",
    "        home_team = is_playing_home(line)\n",
    "        print(winner, home_team)\n",
    "        team = line.find(\"div\", class_=\"ScoreCell__TeamName ScoreCell__TeamName--shortDisplayName truncate db\").text\n",
    "        \n",
    "        print(team)\n",
    "        #print(line['class'])\n",
    "    #print(lines)\n"
   ]
  },
  {
   "cell_type": "code",
   "execution_count": 18,
   "id": "c4b24691",
   "metadata": {
    "ExecuteTime": {
     "end_time": "2022-11-06T15:51:09.410112Z",
     "start_time": "2022-11-06T15:51:09.390752Z"
    }
   },
   "outputs": [
    {
     "data": {
      "text/plain": [
       "<div class=\"Layout_mainContent__jXliI\"><script type=\"application/ld+json\">{\"@context\":\"http://www.schema.org\",\"@type\":\"SportsEvent\",\"name\":\"Pelicans @ Clippers\",\"url\":\"https://www.nba.com/nop-vs-lac-0022200088\",\"description\":\"NBA Game - Pelicans vs. Clippers\",\"startDate\":\"2022-10-30T15:00:00Z\",\"location\":{\"@type\":\"Place\",\"name\":\"Crypto.com Arena, Los Angeles, CA\",\"address\":{\"@type\":\"PostalAddress\"}}}</script><script type=\"application/ld+json\">{\"@context\":\"https://schema.org\",\"@type\":\"BreadcrumbList\",\"itemListElement\":[{\"@type\":\"ListItem\",\"position\":1,\"name\":\"Home\",\"item\":\"https://www.nba.com\"},{\"@type\":\"ListItem\",\"position\":2,\"name\":\"NBA Games\",\"item\":\"https://www.nba.com/games\"},{\"@type\":\"ListItem\",\"position\":3,\"name\":\"LAC vs NOP\",\"item\":\"https://www.nba.com/game/nop-vs-lac-0022200088\"},{\"@type\":\"ListItem\",\"position\":4,\"name\":\"Box Score\",\"item\":\"https://www.nba.com/game/nop-vs-lac-0022200088/box-score\"}]}</script><span class=\"_fwph CompanionAd_base__9xxOD GameView_adCompanion__7hLop\" data-testid=\"companion-ad\" id=\"companion_above_player\" style=\"height:auto\"><form class=\"CompanionAd_form__neOdf\" id=\"_fw_form_companion_above_player\"><input id=\"_fw_input_companion_above_player\" name=\"_fw_input_companion_above_player\" type=\"hidden\" value=\"slau=728x90_sync&amp;w=728&amp;h=90\"/></form><span class=\"CompanionAd_innerSpan__ZcOL5\" data-span-size=\"large\" id=\"_fw_container_companion_above_player\"><div class=\"DisplayAd_ad__YpTBs GameView_ad__vWWE0\" data-ad-type=\"banner\" data-centered=\"true\"><div class=\"DisplayAd_placement__gO0o0\" data-full-width=\"true\" data-lazy=\"false\" id=\"game_ad_b_1\"></div><div class=\"DisplayAd_singleton___iXtO\" id=\"ad_mod_5b3ff4c1e\"></div></div></span></span><section class=\"GameHero_container__uykns\" data-is-archived-game=\"true\" data-is-blacked-out=\"true\" data-is-entitled=\"false\" data-is-live=\"false\" data-is-nba-authenticated=\"false\" data-is-only-entitled-for-radio=\"false\" data-is-pre-game=\"false\" data-is-promo-night=\"false\" data-is-real-media-exists=\"true\" data-is-restricted=\"false\" data-is-tnt-ot=\"false\" data-is-tve-authenticated=\"false\" data-is-un-entitled=\"false\" data-play-options-error=\"false\" data-playback-type=\"idle\" data-sub-type=\"league-pass\"><div data-game-id=\"0022200088\" data-has-account=\"false\" data-has-free-trial=\"false\" data-has-real-media=\"true\" data-is-league-pass=\"true\" data-is-live=\"false\" data-requires-upgrade=\"false\" data-should-show-team-vision-modal=\"false\"></div><div class=\"GameHeroBackground_hero__BdLKJ\"><div class=\"AspectRatio_aspectRatio__3jMKF\" data-ratio=\"16:9\"><div><div class=\"GameHeroBackground_loader__fa3n9\"><div class=\"Loader_wrapper__e2es7\" data-has-stroke=\"false\" data-invert=\"true\" data-use-theme=\"false\"><svg class=\"Loader_svg__FSOVn\" fill=\"none\" height=\"100\" stroke=\"currentColor\" stroke-linecap=\"round\" viewbox=\"0 0 50 50\" width=\"100\" xmlns=\"http://www.w3.org/2000/svg\"><g transform=\"translate(25, 25)\"><circle cx=\"0\" cy=\"0\" r=\"20\" stroke-dasharray=\"8\" stroke-width=\"2\"></circle><circle cx=\"0\" cy=\"0\" r=\"20\" stroke-dasharray=\"2 200\" stroke-dashoffset=\"0\" stroke-width=\"5\"><animatetransform attributename=\"transform\" dur=\"2.25s\" from=\"0 0 0\" repeatcount=\"indefinite\" to=\"359 0 0\" type=\"rotate\"></animatetransform><animate attributename=\"stroke-dasharray\" dur=\"2.25s\" repeatcount=\"indefinite\" values=\"1 200;90 200;10 200\"></animate><animate attributename=\"stroke-dashoffset\" dur=\"2.25s\" repeatcount=\"indefinite\" values=\"0;-35;-124\"></animate></circle></g></svg></div></div><div class=\"GameHeroTeamLogos_teamLogo__VLmmL\" data-variant=\"home\"><div class=\"TeamLogo_block__rSWmO\"><img alt=\" Logo\" class=\"TeamLogo_logo__PclAJ\" loading=\"lazy\" src=\"https://cdn.nba.com/logos/nba/1610612746/primary/L/logo.svg\" title=\" Logo\"/></div></div><div class=\"GameHeroTeamLogos_teamLogo__VLmmL\" data-variant=\"away\"><div class=\"TeamLogo_block__rSWmO\"><img alt=\" Logo\" class=\"TeamLogo_logo__PclAJ\" loading=\"lazy\" src=\"https://cdn.nba.com/logos/nba/1610612740/primary/L/logo.svg\" title=\" Logo\"/></div></div><div class=\"GameHeroBackground_overlay__TTlG1\"></div><img alt=\"Zion returns, leads Pelicans to rout in LA\" class=\"GameHeroBackground_bgImage__ay_41\" loading=\"lazy\" src=\"https://cdn.nba.com/manage/2022/10/GettyImages-1244360650-scaled-e1667159296692.jpg\" srcset=\"https://cdn.nba.com/manage/2022/10/GettyImages-1244360650-scaled-e1667159296692.jpg?w=1440&amp;h=680 1x, https://cdn.nba.com/manage/2022/10/GettyImages-1244360650-scaled-e1667159296692.jpg?w=2880&amp;h=1360 2x\"/><div class=\"GameHeroBackground_content__f1rTd\"><div class=\"GameHero_contentWrapper__H6k34\"><div class=\"GameHero_matchup__9V0Ol\"></div><div class=\"GameHero_footerContent__x5oeQ\"></div></div></div></div></div></div></section><div class=\"InnerNav_innerNav__Fo7C_\"><div class=\"InnerNav_innerNavChild___q4jt\"><ul class=\"InnerNavTabs_list__tIFRN\" role=\"tablist\"><li aria-selected=\"false\" class=\"InnerNavTabLink_tab__T1vNe\" role=\"tab\"><a class=\"InnerNavTabLink_link__Qz2Bi\" href=\"/game/nop-vs-lac-0022200088undefined\">Summary</a></li><li aria-selected=\"true\" class=\"InnerNavTabLink_tab__T1vNe\" role=\"tab\"><a class=\"InnerNavTabLink_link__Qz2Bi InnerNavTabLink_active__7s4rf\" href=\"/game/nop-vs-lac-0022200088/box-scoreundefined\" id=\"box-score\">Box Score</a></li><li aria-selected=\"false\" class=\"InnerNavTabLink_tab__T1vNe\" role=\"tab\"><a class=\"InnerNavTabLink_link__Qz2Bi\" href=\"/game/nop-vs-lac-0022200088/game-chartsundefined\" id=\"game-charts\">Game Charts</a></li><li aria-selected=\"false\" class=\"InnerNavTabLink_tab__T1vNe\" role=\"tab\"><a class=\"InnerNavTabLink_link__Qz2Bi\" href=\"/game/nop-vs-lac-0022200088/play-by-playundefined\" id=\"play-by-play\">Play-By-Play</a></li></ul></div></div><div class=\"MaxWidthContainer_mwc__ID5AG GameView_innerCompanionAd__JcRVo\" data-ad-slot=\"false\" data-padding=\"false\"><span class=\"_fwph CompanionAd_base__9xxOD GameView_adCompanionBelow__et0Gb\" data-testid=\"companion-ad\" id=\"companion_below_player\" style=\"height:auto\"><form class=\"CompanionAd_form__neOdf\" id=\"_fw_form_companion_below_player\"><input id=\"_fw_input_companion_below_player\" name=\"_fw_input_companion_below_player\" type=\"hidden\" value=\"slau=728x90_spon&amp;w=728&amp;h=90\"/></form><span class=\"CompanionAd_innerSpan__ZcOL5\" data-span-size=\"large\" id=\"_fw_container_companion_below_player\"><div class=\"DisplayAd_ad__YpTBs GameView_ad__vWWE0\" data-ad-type=\"banner\" data-centered=\"true\"><div class=\"DisplayAd_placement__gO0o0\" data-full-width=\"true\" data-lazy=\"true\" id=\"game_ad_r_1\"></div></div></span></span></div><div class=\"MaxWidthContainer_mwc__ID5AG GameView_hideScores__fd7Ho\" data-ad-slot=\"false\" data-padding=\"true\"><div class=\"Loader_wrapper__e2es7\" data-has-stroke=\"false\" data-invert=\"false\" data-use-theme=\"true\"><svg class=\"Loader_svg__FSOVn\" fill=\"none\" height=\"100\" stroke=\"currentColor\" stroke-linecap=\"round\" viewbox=\"0 0 50 50\" width=\"100\" xmlns=\"http://www.w3.org/2000/svg\"><g transform=\"translate(25, 25)\"><circle cx=\"0\" cy=\"0\" r=\"20\" stroke-dasharray=\"8\" stroke-width=\"2\"></circle><circle cx=\"0\" cy=\"0\" r=\"20\" stroke-dasharray=\"2 200\" stroke-dashoffset=\"0\" stroke-width=\"5\"><animatetransform attributename=\"transform\" dur=\"2.25s\" from=\"0 0 0\" repeatcount=\"indefinite\" to=\"359 0 0\" type=\"rotate\"></animatetransform><animate attributename=\"stroke-dasharray\" dur=\"2.25s\" repeatcount=\"indefinite\" values=\"1 200;90 200;10 200\"></animate><animate attributename=\"stroke-dashoffset\" dur=\"2.25s\" repeatcount=\"indefinite\" values=\"0;-35;-124\"></animate></circle></g></svg></div></div><div class=\"MaxWidthContainer_mwc__ID5AG\" data-ad-slot=\"false\" data-padding=\"true\"><div class=\"DisplayAd_ad__YpTBs GameView_adBottom__1__fb\" data-ad-type=\"banner\" data-centered=\"true\"><div class=\"DisplayAd_placement__gO0o0\" data-full-width=\"true\" data-lazy=\"true\" id=\"game_ad_b_3\"></div></div></div></div>"
      ]
     },
     "execution_count": 18,
     "metadata": {},
     "output_type": "execute_result"
    }
   ],
   "source": [
    "page_html = soup.find(id=\"__next\")\n",
    "layout = page_html.find(\"div\", class_=\"Layout_base__6IeUC Layout_withShortStrip__krLX0 Layout_justNav__2H4H0\")\n",
    "layout_content = layout.find(\"div\", class_=\"Layout_mainContent__jXliI\")\n",
    "layout_content"
   ]
  },
  {
   "cell_type": "code",
   "execution_count": 22,
   "id": "16e3e2bb",
   "metadata": {
    "ExecuteTime": {
     "end_time": "2022-11-06T16:00:12.122277Z",
     "start_time": "2022-11-06T16:00:12.111210Z"
    }
   },
   "outputs": [
    {
     "data": {
      "text/plain": [
       "[<div class=\"MaxWidthContainer_mwc__ID5AG GameView_innerCompanionAd__JcRVo\" data-ad-slot=\"false\" data-padding=\"false\"><span class=\"_fwph CompanionAd_base__9xxOD GameView_adCompanionBelow__et0Gb\" data-testid=\"companion-ad\" id=\"companion_below_player\" style=\"height:auto\"><form class=\"CompanionAd_form__neOdf\" id=\"_fw_form_companion_below_player\"><input id=\"_fw_input_companion_below_player\" name=\"_fw_input_companion_below_player\" type=\"hidden\" value=\"slau=728x90_spon&amp;w=728&amp;h=90\"/></form><span class=\"CompanionAd_innerSpan__ZcOL5\" data-span-size=\"large\" id=\"_fw_container_companion_below_player\"><div class=\"DisplayAd_ad__YpTBs GameView_ad__vWWE0\" data-ad-type=\"banner\" data-centered=\"true\"><div class=\"DisplayAd_placement__gO0o0\" data-full-width=\"true\" data-lazy=\"true\" id=\"game_ad_r_1\"></div></div></span></span></div>,\n",
       " <div class=\"MaxWidthContainer_mwc__ID5AG GameView_hideScores__fd7Ho\" data-ad-slot=\"false\" data-padding=\"true\"><div class=\"Loader_wrapper__e2es7\" data-has-stroke=\"false\" data-invert=\"false\" data-use-theme=\"true\"><svg class=\"Loader_svg__FSOVn\" fill=\"none\" height=\"100\" stroke=\"currentColor\" stroke-linecap=\"round\" viewbox=\"0 0 50 50\" width=\"100\" xmlns=\"http://www.w3.org/2000/svg\"><g transform=\"translate(25, 25)\"><circle cx=\"0\" cy=\"0\" r=\"20\" stroke-dasharray=\"8\" stroke-width=\"2\"></circle><circle cx=\"0\" cy=\"0\" r=\"20\" stroke-dasharray=\"2 200\" stroke-dashoffset=\"0\" stroke-width=\"5\"><animatetransform attributename=\"transform\" dur=\"2.25s\" from=\"0 0 0\" repeatcount=\"indefinite\" to=\"359 0 0\" type=\"rotate\"></animatetransform><animate attributename=\"stroke-dasharray\" dur=\"2.25s\" repeatcount=\"indefinite\" values=\"1 200;90 200;10 200\"></animate><animate attributename=\"stroke-dashoffset\" dur=\"2.25s\" repeatcount=\"indefinite\" values=\"0;-35;-124\"></animate></circle></g></svg></div></div>,\n",
       " <div class=\"MaxWidthContainer_mwc__ID5AG\" data-ad-slot=\"false\" data-padding=\"true\"><div class=\"DisplayAd_ad__YpTBs GameView_adBottom__1__fb\" data-ad-type=\"banner\" data-centered=\"true\"><div class=\"DisplayAd_placement__gO0o0\" data-full-width=\"true\" data-lazy=\"true\" id=\"game_ad_b_3\"></div></div></div>]"
      ]
     },
     "execution_count": 22,
     "metadata": {},
     "output_type": "execute_result"
    }
   ],
   "source": [
    "layout_content.find_all('div', {'class' :'MaxWidthContainer_mwc__ID5AG'})"
   ]
  },
  {
   "cell_type": "code",
   "execution_count": 20,
   "id": "2c0b60e0",
   "metadata": {
    "ExecuteTime": {
     "end_time": "2022-11-06T15:55:14.030954Z",
     "start_time": "2022-11-06T15:55:14.021272Z"
    }
   },
   "outputs": [
    {
     "data": {
      "text/plain": [
       "<div class=\"DisplayAd_singleton___iXtO\" id=\"ad_mod_5b3ff4c1e\"></div>"
      ]
     },
     "execution_count": 20,
     "metadata": {},
     "output_type": "execute_result"
    }
   ],
   "source": [
    "containers = layout_content.find_all(\"div\")[2]\n",
    "containers"
   ]
  },
  {
   "cell_type": "code",
   "execution_count": 12,
   "id": "239eec31",
   "metadata": {
    "ExecuteTime": {
     "end_time": "2022-11-06T15:28:44.020231Z",
     "start_time": "2022-11-06T15:28:44.007152Z"
    }
   },
   "outputs": [],
   "source": [
    "a = layout_content.find(\"section\", class_='GameBoxscore_gbTableSection__zTOUg')\n",
    "a"
   ]
  },
  {
   "cell_type": "code",
   "execution_count": null,
   "id": "fb1ef023",
   "metadata": {},
   "outputs": [],
   "source": [
    "//*[@id=\"__next\"]/div[2]/div[2]/div[3]/section[3]"
   ]
  }
 ],
 "metadata": {
  "kernelspec": {
   "display_name": "nba_scrapping",
   "language": "python",
   "name": "nba_scrapping"
  },
  "language_info": {
   "codemirror_mode": {
    "name": "ipython",
    "version": 3
   },
   "file_extension": ".py",
   "mimetype": "text/x-python",
   "name": "python",
   "nbconvert_exporter": "python",
   "pygments_lexer": "ipython3",
   "version": "3.10.6"
  },
  "toc": {
   "base_numbering": 1,
   "nav_menu": {},
   "number_sections": true,
   "sideBar": true,
   "skip_h1_title": false,
   "title_cell": "Table of Contents",
   "title_sidebar": "Contents",
   "toc_cell": false,
   "toc_position": {},
   "toc_section_display": true,
   "toc_window_display": false
  }
 },
 "nbformat": 4,
 "nbformat_minor": 5
}
