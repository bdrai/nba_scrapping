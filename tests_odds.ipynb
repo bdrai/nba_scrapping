{
 "cells": [
  {
   "cell_type": "code",
   "execution_count": 65,
   "id": "4fc0d71b",
   "metadata": {},
   "outputs": [],
   "source": [
    "import pandas as pd"
   ]
  },
  {
   "cell_type": "code",
   "execution_count": 72,
   "id": "f92b853f",
   "metadata": {},
   "outputs": [],
   "source": [
    "df = pd.read_json('Odds.json')\n",
    "df = df[['commence_time', 'home_team', 'away_team', 'bookmakers']]"
   ]
  },
  {
   "cell_type": "code",
   "execution_count": 73,
   "id": "bbfb50bf",
   "metadata": {},
   "outputs": [],
   "source": [
    "def unpack_bookmakers(dict_apps_odds):\n",
    "    final_dic = {}\n",
    "    for app in dict_apps_odds:\n",
    "        app_name = app['title']\n",
    "        dic_team_odd = []\n",
    "        for team_odd in app['markets'][0]['outcomes']:\n",
    "            dic_team_odd.append(team_odd['price'])\n",
    "        final_dic[app_name]= dic_team_odd\n",
    "    return final_dic"
   ]
  },
  {
   "cell_type": "code",
   "execution_count": 74,
   "id": "436541e5",
   "metadata": {},
   "outputs": [
    {
     "data": {
      "text/html": [
       "<div>\n",
       "<style scoped>\n",
       "    .dataframe tbody tr th:only-of-type {\n",
       "        vertical-align: middle;\n",
       "    }\n",
       "\n",
       "    .dataframe tbody tr th {\n",
       "        vertical-align: top;\n",
       "    }\n",
       "\n",
       "    .dataframe thead th {\n",
       "        text-align: right;\n",
       "    }\n",
       "</style>\n",
       "<table border=\"1\" class=\"dataframe\">\n",
       "  <thead>\n",
       "    <tr style=\"text-align: right;\">\n",
       "      <th></th>\n",
       "      <th>commence_time</th>\n",
       "      <th>home_team</th>\n",
       "      <th>away_team</th>\n",
       "      <th>bookmaker</th>\n",
       "      <th>odd_home</th>\n",
       "      <th>odd_away</th>\n",
       "    </tr>\n",
       "  </thead>\n",
       "  <tbody>\n",
       "    <tr>\n",
       "      <th>0</th>\n",
       "      <td>2022-12-01 00:10:00+00:00</td>\n",
       "      <td>Orlando Magic</td>\n",
       "      <td>Atlanta Hawks</td>\n",
       "      <td>WynnBET</td>\n",
       "      <td>1.44</td>\n",
       "      <td>2.63</td>\n",
       "    </tr>\n",
       "    <tr>\n",
       "      <th>1</th>\n",
       "      <td>2022-12-01 00:10:00+00:00</td>\n",
       "      <td>Cleveland Cavaliers</td>\n",
       "      <td>Philadelphia 76ers</td>\n",
       "      <td>WynnBET</td>\n",
       "      <td>1.55</td>\n",
       "      <td>2.38</td>\n",
       "    </tr>\n",
       "    <tr>\n",
       "      <th>2</th>\n",
       "      <td>2022-12-01 00:40:00+00:00</td>\n",
       "      <td>Boston Celtics</td>\n",
       "      <td>Miami Heat</td>\n",
       "      <td>WynnBET</td>\n",
       "      <td>1.25</td>\n",
       "      <td>4.00</td>\n",
       "    </tr>\n",
       "    <tr>\n",
       "      <th>3</th>\n",
       "      <td>2022-12-01 00:40:00+00:00</td>\n",
       "      <td>Brooklyn Nets</td>\n",
       "      <td>Washington Wizards</td>\n",
       "      <td>WynnBET</td>\n",
       "      <td>1.40</td>\n",
       "      <td>2.80</td>\n",
       "    </tr>\n",
       "    <tr>\n",
       "      <th>4</th>\n",
       "      <td>2022-12-01 00:40:00+00:00</td>\n",
       "      <td>New York Knicks</td>\n",
       "      <td>Milwaukee Bucks</td>\n",
       "      <td>WynnBET</td>\n",
       "      <td>1.44</td>\n",
       "      <td>2.63</td>\n",
       "    </tr>\n",
       "  </tbody>\n",
       "</table>\n",
       "</div>"
      ],
      "text/plain": [
       "              commence_time            home_team           away_team  \\\n",
       "0 2022-12-01 00:10:00+00:00        Orlando Magic       Atlanta Hawks   \n",
       "1 2022-12-01 00:10:00+00:00  Cleveland Cavaliers  Philadelphia 76ers   \n",
       "2 2022-12-01 00:40:00+00:00       Boston Celtics          Miami Heat   \n",
       "3 2022-12-01 00:40:00+00:00        Brooklyn Nets  Washington Wizards   \n",
       "4 2022-12-01 00:40:00+00:00      New York Knicks     Milwaukee Bucks   \n",
       "\n",
       "  bookmaker  odd_home  odd_away  \n",
       "0   WynnBET      1.44      2.63  \n",
       "1   WynnBET      1.55      2.38  \n",
       "2   WynnBET      1.25      4.00  \n",
       "3   WynnBET      1.40      2.80  \n",
       "4   WynnBET      1.44      2.63  "
      ]
     },
     "execution_count": 74,
     "metadata": {},
     "output_type": "execute_result"
    }
   ],
   "source": [
    "def find_best_bookmaker(dict_apps_odds):\n",
    "    min_avg = sum(dict_apps_odds[list(dict_apps_odds.keys())[0]])/2\n",
    "    best_bookmaker = list(dict_apps_odds.keys())[0]\n",
    "    for key in dict_apps_odds.keys():\n",
    "        avg = sum(dict_apps_odds[key])/2\n",
    "        if avg < min_avg:\n",
    "            min_avg = avg\n",
    "            best_bookmaker = key\n",
    "    return best_bookmaker, dict_apps_odds[key][0], dict_apps_odds[key][1]\n",
    "\n",
    "df.bookmakers = df.bookmakers.apply(lambda x: unpack_bookmakers(x))    \n",
    "df['bookmaker'], df['odd_home'], df['odd_away'] = zip(*df.bookmakers.apply(find_best_bookmaker))\n",
    "df = df.drop(columns = 'bookmakers')\n",
    "df.head()"
   ]
  },
  {
   "cell_type": "code",
   "execution_count": 64,
   "id": "e704ef5d",
   "metadata": {},
   "outputs": [],
   "source": [
    "# https://the-odds-api.com/sports-odds-data/sports-apis.html\n",
    "# https://github.com/the-odds-api/samples-python/blob/master/sample-v4.py"
   ]
  },
  {
   "cell_type": "code",
   "execution_count": null,
   "id": "dfc0e950",
   "metadata": {},
   "outputs": [],
   "source": []
  }
 ],
 "metadata": {
  "kernelspec": {
   "display_name": "Python 3 (ipykernel)",
   "language": "python",
   "name": "python3"
  },
  "language_info": {
   "codemirror_mode": {
    "name": "ipython",
    "version": 3
   },
   "file_extension": ".py",
   "mimetype": "text/x-python",
   "name": "python",
   "nbconvert_exporter": "python",
   "pygments_lexer": "ipython3",
   "version": "3.9.12"
  }
 },
 "nbformat": 4,
 "nbformat_minor": 5
}
